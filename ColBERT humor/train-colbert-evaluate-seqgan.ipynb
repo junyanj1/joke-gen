{
 "cells": [
  {
   "cell_type": "markdown",
   "id": "lyric-siemens",
   "metadata": {},
   "source": [
    "## We will first train a ColBERT sentence embedding."
   ]
  },
  {
   "cell_type": "code",
   "execution_count": 1,
   "id": "applicable-sugar",
   "metadata": {},
   "outputs": [
    {
     "name": "stdout",
     "output_type": "stream",
     "text": [
      "[name: \"/device:CPU:0\"\n",
      "device_type: \"CPU\"\n",
      "memory_limit: 268435456\n",
      "locality {\n",
      "}\n",
      "incarnation: 5754991433281369222\n",
      ", name: \"/device:GPU:0\"\n",
      "device_type: \"GPU\"\n",
      "memory_limit: 15703311680\n",
      "locality {\n",
      "  bus_id: 1\n",
      "  links {\n",
      "  }\n",
      "}\n",
      "incarnation: 9166332265916692221\n",
      "physical_device_desc: \"device: 0, name: Tesla P100-PCIE-16GB, pci bus id: 0000:00:04.0, compute capability: 6.0\"\n",
      "]\n"
     ]
    }
   ],
   "source": [
    "# Machine details\n",
    "from tensorflow import keras\n",
    "from tensorflow.python.client import device_lib\n",
    "print(device_lib.list_local_devices())"
   ]
  },
  {
   "cell_type": "markdown",
   "id": "negative-backing",
   "metadata": {},
   "source": [
    "## Import model"
   ]
  },
  {
   "cell_type": "code",
   "execution_count": 2,
   "id": "copyrighted-object",
   "metadata": {},
   "outputs": [
    {
     "name": "stdout",
     "output_type": "stream",
     "text": [
      "Model: \"functional_3\"\n",
      "__________________________________________________________________________________________________\n",
      "Layer (type)                    Output Shape         Param #     Connected to                     \n",
      "==================================================================================================\n",
      "input_19 (InputLayer)           [(None, 20)]         0                                            \n",
      "__________________________________________________________________________________________________\n",
      "input_20 (InputLayer)           [(None, 20)]         0                                            \n",
      "__________________________________________________________________________________________________\n",
      "input_21 (InputLayer)           [(None, 20)]         0                                            \n",
      "__________________________________________________________________________________________________\n",
      "input_22 (InputLayer)           [(None, 20)]         0                                            \n",
      "__________________________________________________________________________________________________\n",
      "input_23 (InputLayer)           [(None, 20)]         0                                            \n",
      "__________________________________________________________________________________________________\n",
      "input_24 (InputLayer)           [(None, 20)]         0                                            \n",
      "__________________________________________________________________________________________________\n",
      "input_25 (InputLayer)           [(None, 20)]         0                                            \n",
      "__________________________________________________________________________________________________\n",
      "input_26 (InputLayer)           [(None, 20)]         0                                            \n",
      "__________________________________________________________________________________________________\n",
      "input_27 (InputLayer)           [(None, 20)]         0                                            \n",
      "__________________________________________________________________________________________________\n",
      "input_28 (InputLayer)           [(None, 20)]         0                                            \n",
      "__________________________________________________________________________________________________\n",
      "input_29 (InputLayer)           [(None, 20)]         0                                            \n",
      "__________________________________________________________________________________________________\n",
      "input_30 (InputLayer)           [(None, 20)]         0                                            \n",
      "__________________________________________________________________________________________________\n",
      "input_31 (InputLayer)           [(None, 20)]         0                                            \n",
      "__________________________________________________________________________________________________\n",
      "input_32 (InputLayer)           [(None, 20)]         0                                            \n",
      "__________________________________________________________________________________________________\n",
      "input_33 (InputLayer)           [(None, 20)]         0                                            \n",
      "__________________________________________________________________________________________________\n",
      "input_34 (InputLayer)           [(None, 100)]        0                                            \n",
      "__________________________________________________________________________________________________\n",
      "input_35 (InputLayer)           [(None, 100)]        0                                            \n",
      "__________________________________________________________________________________________________\n",
      "input_36 (InputLayer)           [(None, 100)]        0                                            \n",
      "__________________________________________________________________________________________________\n",
      "bert (Custom>TFBertMainLayer)   multiple             109482240   input_19[0][0]                   \n",
      "                                                                 input_20[0][0]                   \n",
      "                                                                 input_21[0][0]                   \n",
      "                                                                 input_22[0][0]                   \n",
      "                                                                 input_23[0][0]                   \n",
      "                                                                 input_24[0][0]                   \n",
      "                                                                 input_25[0][0]                   \n",
      "                                                                 input_26[0][0]                   \n",
      "                                                                 input_27[0][0]                   \n",
      "                                                                 input_28[0][0]                   \n",
      "                                                                 input_29[0][0]                   \n",
      "                                                                 input_30[0][0]                   \n",
      "                                                                 input_31[0][0]                   \n",
      "                                                                 input_32[0][0]                   \n",
      "                                                                 input_33[0][0]                   \n",
      "                                                                 input_34[0][0]                   \n",
      "                                                                 input_35[0][0]                   \n",
      "                                                                 input_36[0][0]                   \n",
      "__________________________________________________________________________________________________\n",
      "global_average_pooling1d_6 (Glo (None, 768)          0           bert[0][0]                       \n",
      "__________________________________________________________________________________________________\n",
      "global_average_pooling1d_7 (Glo (None, 768)          0           bert[1][0]                       \n",
      "__________________________________________________________________________________________________\n",
      "global_average_pooling1d_8 (Glo (None, 768)          0           bert[2][0]                       \n",
      "__________________________________________________________________________________________________\n",
      "global_average_pooling1d_9 (Glo (None, 768)          0           bert[3][0]                       \n",
      "__________________________________________________________________________________________________\n",
      "global_average_pooling1d_10 (Gl (None, 768)          0           bert[4][0]                       \n",
      "__________________________________________________________________________________________________\n",
      "global_average_pooling1d_11 (Gl (None, 768)          0           bert[5][0]                       \n",
      "__________________________________________________________________________________________________\n",
      "dense_15 (Dense)                (None, 32)           24608       global_average_pooling1d_6[0][0] \n",
      "__________________________________________________________________________________________________\n",
      "dense_17 (Dense)                (None, 32)           24608       global_average_pooling1d_7[0][0] \n",
      "__________________________________________________________________________________________________\n",
      "dense_19 (Dense)                (None, 32)           24608       global_average_pooling1d_8[0][0] \n",
      "__________________________________________________________________________________________________\n",
      "dense_21 (Dense)                (None, 32)           24608       global_average_pooling1d_9[0][0] \n",
      "__________________________________________________________________________________________________\n",
      "dense_23 (Dense)                (None, 32)           24608       global_average_pooling1d_10[0][0]\n",
      "__________________________________________________________________________________________________\n",
      "dense_25 (Dense)                (None, 256)          196864      global_average_pooling1d_11[0][0]\n",
      "__________________________________________________________________________________________________\n",
      "dropout_44 (Dropout)            (None, 32)           0           dense_15[0][0]                   \n",
      "__________________________________________________________________________________________________\n",
      "dropout_45 (Dropout)            (None, 32)           0           dense_17[0][0]                   \n",
      "__________________________________________________________________________________________________\n",
      "dropout_46 (Dropout)            (None, 32)           0           dense_19[0][0]                   \n",
      "__________________________________________________________________________________________________\n",
      "dropout_47 (Dropout)            (None, 32)           0           dense_21[0][0]                   \n",
      "__________________________________________________________________________________________________\n",
      "dropout_48 (Dropout)            (None, 32)           0           dense_23[0][0]                   \n",
      "__________________________________________________________________________________________________\n",
      "dropout_49 (Dropout)            (None, 256)          0           dense_25[0][0]                   \n",
      "__________________________________________________________________________________________________\n",
      "dense_16 (Dense)                (None, 8)            264         dropout_44[0][0]                 \n",
      "__________________________________________________________________________________________________\n",
      "dense_18 (Dense)                (None, 8)            264         dropout_45[0][0]                 \n",
      "__________________________________________________________________________________________________\n",
      "dense_20 (Dense)                (None, 8)            264         dropout_46[0][0]                 \n",
      "__________________________________________________________________________________________________\n",
      "dense_22 (Dense)                (None, 8)            264         dropout_47[0][0]                 \n",
      "__________________________________________________________________________________________________\n",
      "dense_24 (Dense)                (None, 8)            264         dropout_48[0][0]                 \n",
      "__________________________________________________________________________________________________\n",
      "dense_26 (Dense)                (None, 64)           16448       dropout_49[0][0]                 \n",
      "__________________________________________________________________________________________________\n",
      "concatenate_1 (Concatenate)     (None, 104)          0           dense_16[0][0]                   \n",
      "                                                                 dense_18[0][0]                   \n",
      "                                                                 dense_20[0][0]                   \n",
      "                                                                 dense_22[0][0]                   \n",
      "                                                                 dense_24[0][0]                   \n",
      "                                                                 dense_26[0][0]                   \n",
      "__________________________________________________________________________________________________\n",
      "dense_27 (Dense)                (None, 512)          53760       concatenate_1[0][0]              \n",
      "__________________________________________________________________________________________________\n",
      "dropout_50 (Dropout)            (None, 512)          0           dense_27[0][0]                   \n",
      "__________________________________________________________________________________________________\n",
      "dense_28 (Dense)                (None, 256)          131328      dropout_50[0][0]                 \n",
      "__________________________________________________________________________________________________\n",
      "dense_29 (Dense)                (None, 1)            257         dense_28[0][0]                   \n",
      "==================================================================================================\n",
      "Total params: 110,005,257\n",
      "Trainable params: 110,005,257\n",
      "Non-trainable params: 0\n",
      "__________________________________________________________________________________________________\n"
     ]
    }
   ],
   "source": [
    "model = keras.models.load_model(\"colbert-trained/\")\n",
    "model.summary()"
   ]
  },
  {
   "cell_type": "code",
   "execution_count": 3,
   "id": "double-unknown",
   "metadata": {},
   "outputs": [
    {
     "name": "stdout",
     "output_type": "stream",
     "text": [
      "2.4.1\n"
     ]
    }
   ],
   "source": [
    "# Dependencies\n",
    "import pandas as pd\n",
    "import numpy as np\n",
    "import sklearn\n",
    "from sklearn.model_selection import GroupKFold\n",
    "import matplotlib.pyplot as plt\n",
    "from tqdm.notebook import tqdm\n",
    "\n",
    "# import tensorflow_hub as hub\n",
    "import tensorflow as tf\n",
    "# import bert_tokenization as tokenization\n",
    "import tensorflow.keras.backend as K\n",
    "# from tensorflow import keras\n",
    "\n",
    "import os\n",
    "from scipy.stats import spearmanr\n",
    "from math import floor, ceil\n",
    "from transformers import *\n",
    "\n",
    "import seaborn as sns\n",
    "import string\n",
    "import re    #for regex\n",
    "\n",
    "np.set_printoptions(suppress=True)\n",
    "print(tf.__version__)"
   ]
  },
  {
   "cell_type": "code",
   "execution_count": 4,
   "id": "cultural-digest",
   "metadata": {},
   "outputs": [],
   "source": [
    "# Parameters for data\n",
    "training_sample_count = 1000 # 4000\n",
    "test_count = 1000\n",
    "\n",
    "MAX_SENTENCE_LENGTH = 20\n",
    "MAX_SENTENCES = 5\n",
    "MAX_LENGTH = 100"
   ]
  },
  {
   "cell_type": "markdown",
   "id": "critical-nickname",
   "metadata": {},
   "source": [
    "## Read sample testing data"
   ]
  },
  {
   "cell_type": "code",
   "execution_count": 5,
   "id": "marked-allah",
   "metadata": {},
   "outputs": [
    {
     "name": "stdout",
     "output_type": "stream",
     "text": [
      "Data\t\t colbert-trained.zip  modelConf.json\n",
      "colbert-trained  mega.sh\t      train-colbert-evaluate-seqgan.ipynb\n"
     ]
    }
   ],
   "source": [
    "!ls\n",
    "# os.chdir(\"joke-gen/ColBERT humor\")"
   ]
  },
  {
   "cell_type": "code",
   "execution_count": 6,
   "id": "located-shakespeare",
   "metadata": {},
   "outputs": [
    {
     "data": {
      "text/html": [
       "<div>\n",
       "<style scoped>\n",
       "    .dataframe tbody tr th:only-of-type {\n",
       "        vertical-align: middle;\n",
       "    }\n",
       "\n",
       "    .dataframe tbody tr th {\n",
       "        vertical-align: top;\n",
       "    }\n",
       "\n",
       "    .dataframe thead th {\n",
       "        text-align: right;\n",
       "    }\n",
       "</style>\n",
       "<table border=\"1\" class=\"dataframe\">\n",
       "  <thead>\n",
       "    <tr style=\"text-align: right;\">\n",
       "      <th></th>\n",
       "      <th>text</th>\n",
       "      <th>humor</th>\n",
       "    </tr>\n",
       "  </thead>\n",
       "  <tbody>\n",
       "    <tr>\n",
       "      <th>0</th>\n",
       "      <td>Joe biden rules out 2020 bid: 'guys, i'm not r...</td>\n",
       "      <td>False</td>\n",
       "    </tr>\n",
       "    <tr>\n",
       "      <th>1</th>\n",
       "      <td>Watch: darvish gave hitter whiplash with slow ...</td>\n",
       "      <td>False</td>\n",
       "    </tr>\n",
       "    <tr>\n",
       "      <th>2</th>\n",
       "      <td>What do you call a turtle without its shell? d...</td>\n",
       "      <td>True</td>\n",
       "    </tr>\n",
       "  </tbody>\n",
       "</table>\n",
       "</div>"
      ],
      "text/plain": [
       "                                                text  humor\n",
       "0  Joe biden rules out 2020 bid: 'guys, i'm not r...  False\n",
       "1  Watch: darvish gave hitter whiplash with slow ...  False\n",
       "2  What do you call a turtle without its shell? d...   True"
      ]
     },
     "metadata": {},
     "output_type": "display_data"
    },
    {
     "data": {
      "text/html": [
       "<div>\n",
       "<style scoped>\n",
       "    .dataframe tbody tr th:only-of-type {\n",
       "        vertical-align: middle;\n",
       "    }\n",
       "\n",
       "    .dataframe tbody tr th {\n",
       "        vertical-align: top;\n",
       "    }\n",
       "\n",
       "    .dataframe thead th {\n",
       "        text-align: right;\n",
       "    }\n",
       "</style>\n",
       "<table border=\"1\" class=\"dataframe\">\n",
       "  <thead>\n",
       "    <tr style=\"text-align: right;\">\n",
       "      <th></th>\n",
       "      <th>text</th>\n",
       "      <th>humor</th>\n",
       "    </tr>\n",
       "  </thead>\n",
       "  <tbody>\n",
       "    <tr>\n",
       "      <th>0</th>\n",
       "      <td>What kind of cat should you take into the  des...</td>\n",
       "      <td>True</td>\n",
       "    </tr>\n",
       "    <tr>\n",
       "      <th>1</th>\n",
       "      <td>Remember when people used to have to be in sha...</td>\n",
       "      <td>True</td>\n",
       "    </tr>\n",
       "    <tr>\n",
       "      <th>2</th>\n",
       "      <td>Pizza is always good. - everyone we'll see abo...</td>\n",
       "      <td>True</td>\n",
       "    </tr>\n",
       "  </tbody>\n",
       "</table>\n",
       "</div>"
      ],
      "text/plain": [
       "                                                text  humor\n",
       "0  What kind of cat should you take into the  des...   True\n",
       "1  Remember when people used to have to be in sha...   True\n",
       "2  Pizza is always good. - everyone we'll see abo...   True"
      ]
     },
     "metadata": {},
     "output_type": "display_data"
    }
   ],
   "source": [
    "df = pd.read_csv('Data/dataset.csv')\n",
    "\n",
    "df_train = pd.read_csv('Data/train.csv')\n",
    "display(df_train.head(3))\n",
    "df_train = df_train[:training_sample_count]\n",
    "\n",
    "df_test = pd.read_csv('Data/dev.csv')\n",
    "display(df_test.head(3))\n",
    "df_test = df_test[:test_count]"
   ]
  },
  {
   "cell_type": "code",
   "execution_count": 7,
   "id": "stylish-leisure",
   "metadata": {},
   "outputs": [
    {
     "name": "stdout",
     "output_type": "stream",
     "text": [
      "200000 1000 1000\n"
     ]
    },
    {
     "data": {
      "text/html": [
       "<div>\n",
       "<style scoped>\n",
       "    .dataframe tbody tr th:only-of-type {\n",
       "        vertical-align: middle;\n",
       "    }\n",
       "\n",
       "    .dataframe tbody tr th {\n",
       "        vertical-align: top;\n",
       "    }\n",
       "\n",
       "    .dataframe thead th {\n",
       "        text-align: right;\n",
       "    }\n",
       "</style>\n",
       "<table border=\"1\" class=\"dataframe\">\n",
       "  <thead>\n",
       "    <tr style=\"text-align: right;\">\n",
       "      <th></th>\n",
       "      <th>text</th>\n",
       "      <th>humor</th>\n",
       "    </tr>\n",
       "  </thead>\n",
       "  <tbody>\n",
       "    <tr>\n",
       "      <th>0</th>\n",
       "      <td>Joe biden rules out 2020 bid: 'guys, i'm not r...</td>\n",
       "      <td>False</td>\n",
       "    </tr>\n",
       "    <tr>\n",
       "      <th>1</th>\n",
       "      <td>Watch: darvish gave hitter whiplash with slow ...</td>\n",
       "      <td>False</td>\n",
       "    </tr>\n",
       "    <tr>\n",
       "      <th>2</th>\n",
       "      <td>What do you call a turtle without its shell? d...</td>\n",
       "      <td>True</td>\n",
       "    </tr>\n",
       "    <tr>\n",
       "      <th>3</th>\n",
       "      <td>5 reasons the 2016 election feels so personal</td>\n",
       "      <td>False</td>\n",
       "    </tr>\n",
       "    <tr>\n",
       "      <th>4</th>\n",
       "      <td>Pasco police shot mexican migrant from behind,...</td>\n",
       "      <td>False</td>\n",
       "    </tr>\n",
       "  </tbody>\n",
       "</table>\n",
       "</div>"
      ],
      "text/plain": [
       "                                                text  humor\n",
       "0  Joe biden rules out 2020 bid: 'guys, i'm not r...  False\n",
       "1  Watch: darvish gave hitter whiplash with slow ...  False\n",
       "2  What do you call a turtle without its shell? d...   True\n",
       "3      5 reasons the 2016 election feels so personal  False\n",
       "4  Pasco police shot mexican migrant from behind,...  False"
      ]
     },
     "metadata": {},
     "output_type": "display_data"
    },
    {
     "data": {
      "text/html": [
       "<div>\n",
       "<style scoped>\n",
       "    .dataframe tbody tr th:only-of-type {\n",
       "        vertical-align: middle;\n",
       "    }\n",
       "\n",
       "    .dataframe tbody tr th {\n",
       "        vertical-align: top;\n",
       "    }\n",
       "\n",
       "    .dataframe thead th {\n",
       "        text-align: right;\n",
       "    }\n",
       "</style>\n",
       "<table border=\"1\" class=\"dataframe\">\n",
       "  <thead>\n",
       "    <tr style=\"text-align: right;\">\n",
       "      <th></th>\n",
       "      <th>text</th>\n",
       "    </tr>\n",
       "  </thead>\n",
       "  <tbody>\n",
       "    <tr>\n",
       "      <th>0</th>\n",
       "      <td>What kind of cat should you take into the  des...</td>\n",
       "    </tr>\n",
       "    <tr>\n",
       "      <th>1</th>\n",
       "      <td>Remember when people used to have to be in sha...</td>\n",
       "    </tr>\n",
       "    <tr>\n",
       "      <th>2</th>\n",
       "      <td>Pizza is always good. - everyone we'll see abo...</td>\n",
       "    </tr>\n",
       "    <tr>\n",
       "      <th>3</th>\n",
       "      <td>What's 6 inches long hard, bent, and in my pan...</td>\n",
       "    </tr>\n",
       "    <tr>\n",
       "      <th>4</th>\n",
       "      <td>Black teen's response to violence in his commu...</td>\n",
       "    </tr>\n",
       "  </tbody>\n",
       "</table>\n",
       "</div>"
      ],
      "text/plain": [
       "                                                text\n",
       "0  What kind of cat should you take into the  des...\n",
       "1  Remember when people used to have to be in sha...\n",
       "2  Pizza is always good. - everyone we'll see abo...\n",
       "3  What's 6 inches long hard, bent, and in my pan...\n",
       "4  Black teen's response to violence in his commu..."
      ]
     },
     "metadata": {},
     "output_type": "display_data"
    }
   ],
   "source": [
    "test_df_y = df_test.copy()\n",
    "del df_test['humor']\n",
    "\n",
    "df_sub = test_df_y.copy()\n",
    "\n",
    "print(len(df),len(df_train),len(df_test))\n",
    "display(df_train.head())\n",
    "display(df_test.head())"
   ]
  },
  {
   "cell_type": "code",
   "execution_count": 8,
   "id": "fourth-hunter",
   "metadata": {},
   "outputs": [
    {
     "name": "stdout",
     "output_type": "stream",
     "text": [
      "\n",
      "input categories:\n",
      "\t ['text']\n",
      "\n",
      "output TARGET_COUNT:\n",
      "\t 1\n",
      "\n",
      "output categories:\n",
      "\t ['humor']\n"
     ]
    }
   ],
   "source": [
    "output_categories = list(df_train.columns[[1]])\n",
    "input_categories = list(df_train.columns[[0]])\n",
    "\n",
    "TARGET_COUNT = len(output_categories)\n",
    "\n",
    "print('\\ninput categories:\\n\\t', input_categories)\n",
    "print('\\noutput TARGET_COUNT:\\n\\t', TARGET_COUNT)\n",
    "print('\\noutput categories:\\n\\t', output_categories)"
   ]
  },
  {
   "cell_type": "markdown",
   "id": "laden-drilling",
   "metadata": {},
   "source": [
    "## Preprocess the data"
   ]
  },
  {
   "cell_type": "code",
   "execution_count": 9,
   "id": "persistent-birthday",
   "metadata": {},
   "outputs": [],
   "source": [
    "from tensorflow.keras import layers\n",
    "from tokenizers import BertWordPieceTokenizer\n",
    "from transformers import BertTokenizer, TFBertModel, BertConfig\n",
    "\n",
    "MODEL_TYPE = 'bert-base-uncased'\n",
    "tokenizer = BertTokenizer.from_pretrained(MODEL_TYPE)"
   ]
  },
  {
   "cell_type": "code",
   "execution_count": 10,
   "id": "swiss-contact",
   "metadata": {},
   "outputs": [
    {
     "name": "stderr",
     "output_type": "stream",
     "text": [
      "[nltk_data] Downloading package punkt to /home/jupyter/nltk_data...\n",
      "[nltk_data]   Package punkt is already up-to-date!\n"
     ]
    }
   ],
   "source": [
    "import nltk\n",
    "nltk.download('punkt')\n",
    "from nltk.tokenize import sent_tokenize"
   ]
  },
  {
   "cell_type": "code",
   "execution_count": 11,
   "id": "narrative-commons",
   "metadata": {},
   "outputs": [],
   "source": [
    "def return_id(str1, str2, truncation_strategy, length):\n",
    "\n",
    "    inputs = tokenizer.encode_plus(str1, str2,\n",
    "        add_special_tokens=True,\n",
    "        max_length=length,\n",
    "        truncation_strategy=truncation_strategy)\n",
    "\n",
    "    input_ids =  inputs[\"input_ids\"]\n",
    "    input_masks = [1] * len(input_ids)\n",
    "    input_segments = inputs[\"token_type_ids\"]\n",
    "    padding_length = length - len(input_ids)\n",
    "    padding_id = tokenizer.pad_token_id\n",
    "    input_ids = input_ids + ([padding_id] * padding_length)\n",
    "    input_masks = input_masks + ([0] * padding_length)\n",
    "    input_segments = input_segments + ([0] * padding_length)\n",
    "\n",
    "    return [input_ids, input_masks, input_segments]\n",
    "\n",
    "\n",
    "def compute_input_arrays(df, columns, tokenizer):\n",
    "    model_input = []\n",
    "    for xx in range((MAX_SENTENCES*3)+3):\n",
    "        model_input.append([])\n",
    "    \n",
    "    for _, row in tqdm(df[columns].iterrows()):\n",
    "        i = 0\n",
    "        \n",
    "        # sent\n",
    "        sentences = sent_tokenize(row.text)\n",
    "        for xx in range(MAX_SENTENCES):\n",
    "            s = sentences[xx] if xx<len(sentences) else ''\n",
    "            ids_q, masks_q, segments_q = return_id(s, None, 'longest_first', MAX_SENTENCE_LENGTH)\n",
    "            model_input[i].append(ids_q)\n",
    "            i+=1\n",
    "            model_input[i].append(masks_q)\n",
    "            i+=1\n",
    "            model_input[i].append(segments_q)\n",
    "            i+=1\n",
    "        \n",
    "        # full row\n",
    "        ids_q, masks_q, segments_q = return_id(row.text, None, 'longest_first', MAX_LENGTH)\n",
    "        model_input[i].append(ids_q)\n",
    "        i+=1\n",
    "        model_input[i].append(masks_q)\n",
    "        i+=1\n",
    "        model_input[i].append(segments_q)\n",
    "        \n",
    "    for xx in range((MAX_SENTENCES*3)+3):\n",
    "        model_input[xx] = np.asarray(model_input[xx], dtype=np.int32)\n",
    "        \n",
    "    print(model_input[0].shape)\n",
    "    return model_input"
   ]
  },
  {
   "cell_type": "code",
   "execution_count": 12,
   "id": "compatible-humor",
   "metadata": {},
   "outputs": [
    {
     "data": {
      "application/vnd.jupyter.widget-view+json": {
       "model_id": "93b452aa14c943c9925d44d66aa1884b",
       "version_major": 2,
       "version_minor": 0
      },
      "text/plain": [
       "0it [00:00, ?it/s]"
      ]
     },
     "metadata": {},
     "output_type": "display_data"
    },
    {
     "name": "stderr",
     "output_type": "stream",
     "text": [
      "Truncation was not explicitly activated but `max_length` is provided a specific value, please use `truncation=True` to explicitly truncate examples to max length. Defaulting to 'longest_first' truncation strategy. If you encode pairs of sequences (GLUE-style) with the tokenizer you can select this strategy more precisely by providing a specific strategy to `truncation`.\n"
     ]
    },
    {
     "name": "stdout",
     "output_type": "stream",
     "text": [
      "(1000, 20)\n"
     ]
    },
    {
     "data": {
      "application/vnd.jupyter.widget-view+json": {
       "model_id": "9117919707544980a84cf46ff9a04019",
       "version_major": 2,
       "version_minor": 0
      },
      "text/plain": [
       "0it [00:00, ?it/s]"
      ]
     },
     "metadata": {},
     "output_type": "display_data"
    },
    {
     "name": "stdout",
     "output_type": "stream",
     "text": [
      "(1000, 20)\n"
     ]
    }
   ],
   "source": [
    "inputs      = compute_input_arrays(df_train, input_categories, tokenizer)\n",
    "test_inputs = compute_input_arrays(df_test, input_categories, tokenizer)"
   ]
  },
  {
   "cell_type": "code",
   "execution_count": 24,
   "id": "gothic-premises",
   "metadata": {},
   "outputs": [
    {
     "name": "stdout",
     "output_type": "stream",
     "text": [
      "18 1000 20\n",
      "Want to know why athletes chose to #takeaknee? look at our broken justice system\n",
      "['Want to know why athletes chose to #takeaknee?', 'look at our broken justice system']\n"
     ]
    },
    {
     "data": {
      "text/plain": [
       "(array([  101,  2215,  2000,  2113,  2339,  7576,  4900,  2000,  1001,\n",
       "         2202,  4817, 24045,  1029,   102,     0,     0,     0,     0,\n",
       "            0,     0], dtype=int32),\n",
       " array([ 101, 2298, 2012, 2256, 3714, 3425, 2291,  102,    0,    0,    0,\n",
       "           0,    0,    0,    0,    0,    0,    0,    0,    0], dtype=int32),\n",
       " array([101, 102,   0,   0,   0,   0,   0,   0,   0,   0,   0,   0,   0,\n",
       "          0,   0,   0,   0,   0,   0,   0], dtype=int32),\n",
       " array([  101,  2215,  2000,  2113,  2339,  7576,  4900,  2000,  1001,\n",
       "         2202,  4817, 24045,  1029,  2298,  2012,  2256,  3714,  3425,\n",
       "         2291,   102,     0,     0,     0,     0,     0,     0,     0,\n",
       "            0,     0,     0,     0,     0,     0,     0,     0,     0,\n",
       "            0,     0,     0,     0,     0,     0,     0,     0,     0,\n",
       "            0,     0,     0,     0,     0,     0,     0,     0,     0,\n",
       "            0,     0,     0,     0,     0,     0,     0,     0,     0,\n",
       "            0,     0,     0,     0,     0,     0,     0,     0,     0,\n",
       "            0,     0,     0,     0,     0,     0,     0,     0,     0,\n",
       "            0,     0,     0,     0,     0,     0,     0,     0,     0,\n",
       "            0,     0,     0,     0,     0,     0,     0,     0,     0,\n",
       "            0], dtype=int32))"
      ]
     },
     "execution_count": 24,
     "metadata": {},
     "output_type": "execute_result"
    }
   ],
   "source": [
    "print(len(inputs), len(inputs[0]), len(inputs[0][0]))\n",
    "\n",
    "# See the output of embedding\n",
    "xx = 12\n",
    "print(df_train.iloc[xx,0])\n",
    "print(sent_tokenize(df_train.iloc[xx,0]))\n",
    "inputs[0][xx], inputs[3][xx], inputs[6][xx], inputs[15][xx]"
   ]
  },
  {
   "cell_type": "code",
   "execution_count": 14,
   "id": "treated-milwaukee",
   "metadata": {},
   "outputs": [
    {
     "data": {
      "text/plain": [
       "array([[False],\n",
       "       [False],\n",
       "       [ True]])"
      ]
     },
     "execution_count": 14,
     "metadata": {},
     "output_type": "execute_result"
    }
   ],
   "source": [
    "def compute_output_arrays(df, columns):\n",
    "    return np.asarray(df[columns])\n",
    "\n",
    "outputs = compute_output_arrays(df_train, output_categories)\n",
    "outputs[:3]"
   ]
  },
  {
   "cell_type": "markdown",
   "id": "hollywood-steel",
   "metadata": {},
   "source": [
    "Since it's a regression with outcome between 0 and 1, it's reasonable to use binary_crossentropy optimizer and MAE loss function"
   ]
  },
  {
   "cell_type": "markdown",
   "id": "plastic-beaver",
   "metadata": {},
   "source": [
    "## Evaluation"
   ]
  },
  {
   "cell_type": "code",
   "execution_count": 96,
   "id": "meaning-fisher",
   "metadata": {},
   "outputs": [],
   "source": [
    "# Evaluation Metrics\n",
    "import sklearn\n",
    "def print_evaluation_metrics(y_true, y_pred, label='', is_regression=True, label2=''):\n",
    "    print('==================', label2)\n",
    "    ### For regression\n",
    "    if is_regression:\n",
    "        print('mean_absolute_error',label,':', sklearn.metrics.mean_absolute_error(y_true, y_pred))\n",
    "        print('mean_squared_error',label,':', sklearn.metrics.mean_squared_error(y_true, y_pred))\n",
    "        print('r2 score',label,':', sklearn.metrics.r2_score(y_true, y_pred))\n",
    "        #     print('max_error',label,':', sklearn.metrics.max_error(y_true, y_pred))\n",
    "        return sklearn.metrics.mean_squared_error(y_true, y_pred)\n",
    "    else:\n",
    "        ### FOR Classification\n",
    "#         print('balanced_accuracy_score',label,':', sklearn.metrics.balanced_accuracy_score(y_true, y_pred))\n",
    "#         print('average_precision_score',label,':', sklearn.metrics.average_precision_score(y_true, y_pred))\n",
    "#         print('balanced_accuracy_score',label,':', sklearn.metrics.balanced_accuracy_score(y_true, y_pred))\n",
    "#         print('accuracy_score',label,':', sklearn.metrics.accuracy_score(y_true, y_pred))\n",
    "        print('f1_score',label,':', sklearn.metrics.f1_score(y_true, y_pred))\n",
    "        \n",
    "        matrix = sklearn.metrics.confusion_matrix(y_true, y_pred)\n",
    "        print(matrix)\n",
    "        TP,TN,FP,FN = matrix[1][1],matrix[0][0],matrix[0][1],matrix[1][0]\n",
    "        Accuracy = (TP+TN)/(TP+FP+FN+TN)\n",
    "        Precision = TP/(TP+FP)\n",
    "        Recall = TP/(TP+FN)\n",
    "        F1 = 2*(Recall * Precision) / (Recall + Precision)\n",
    "        print('Acc', Accuracy, 'Prec', Precision, 'Rec', Recall, 'F1',F1)\n",
    "#         return sklearn.metrics.accuracy_score(y_true, y_pred)\n",
    "        return {'Acc': Accuracy, 'Prec': Precision, 'Rec': Recall, 'F1': F1}"
   ]
  },
  {
   "cell_type": "code",
   "execution_count": 16,
   "id": "mediterranean-label",
   "metadata": {},
   "outputs": [
    {
     "name": "stdout",
     "output_type": "stream",
     "text": [
      "================== \n",
      "mean_absolute_error  : 0.008370923\n",
      "mean_squared_error  : 0.0059296396\n",
      "r2 score  : 0.9762767920443749\n"
     ]
    },
    {
     "data": {
      "text/plain": [
       "0.0059296396"
      ]
     },
     "execution_count": 16,
     "metadata": {},
     "output_type": "execute_result"
    }
   ],
   "source": [
    "preds = model.predict(inputs)\n",
    "print_evaluation_metrics(np.array(outputs), np.array(preds), '')"
   ]
  },
  {
   "cell_type": "markdown",
   "id": "perfect-station",
   "metadata": {},
   "source": [
    "## Predict on test sets and produce binary submission"
   ]
  },
  {
   "cell_type": "code",
   "execution_count": 17,
   "id": "adjustable-substitute",
   "metadata": {},
   "outputs": [],
   "source": [
    "test_preds = model.predict(test_inputs)"
   ]
  },
  {
   "cell_type": "code",
   "execution_count": 19,
   "id": "special-consensus",
   "metadata": {},
   "outputs": [
    {
     "name": "stdout",
     "output_type": "stream",
     "text": [
      "================== SPLIT on 0.9\n",
      "f1_score  : 0.9835111542192047\n",
      "[[476   8]\n",
      " [  9 507]]\n",
      "Acc 0.983 Prec 0.9844660194174757 Rec 0.9825581395348837 F1 0.9835111542192047\n"
     ]
    },
    {
     "data": {
      "text/html": [
       "<div>\n",
       "<style scoped>\n",
       "    .dataframe tbody tr th:only-of-type {\n",
       "        vertical-align: middle;\n",
       "    }\n",
       "\n",
       "    .dataframe tbody tr th {\n",
       "        vertical-align: top;\n",
       "    }\n",
       "\n",
       "    .dataframe thead th {\n",
       "        text-align: right;\n",
       "    }\n",
       "</style>\n",
       "<table border=\"1\" class=\"dataframe\">\n",
       "  <thead>\n",
       "    <tr style=\"text-align: right;\">\n",
       "      <th></th>\n",
       "      <th>text</th>\n",
       "      <th>humor</th>\n",
       "      <th>pred_bi</th>\n",
       "    </tr>\n",
       "  </thead>\n",
       "  <tbody>\n",
       "    <tr>\n",
       "      <th>0</th>\n",
       "      <td>What kind of cat should you take into the  des...</td>\n",
       "      <td>True</td>\n",
       "      <td>True</td>\n",
       "    </tr>\n",
       "    <tr>\n",
       "      <th>1</th>\n",
       "      <td>Remember when people used to have to be in sha...</td>\n",
       "      <td>True</td>\n",
       "      <td>True</td>\n",
       "    </tr>\n",
       "    <tr>\n",
       "      <th>2</th>\n",
       "      <td>Pizza is always good. - everyone we'll see abo...</td>\n",
       "      <td>True</td>\n",
       "      <td>True</td>\n",
       "    </tr>\n",
       "    <tr>\n",
       "      <th>3</th>\n",
       "      <td>What's 6 inches long hard, bent, and in my pan...</td>\n",
       "      <td>True</td>\n",
       "      <td>True</td>\n",
       "    </tr>\n",
       "    <tr>\n",
       "      <th>4</th>\n",
       "      <td>Black teen's response to violence in his commu...</td>\n",
       "      <td>False</td>\n",
       "      <td>False</td>\n",
       "    </tr>\n",
       "  </tbody>\n",
       "</table>\n",
       "</div>"
      ],
      "text/plain": [
       "                                                text  humor  pred_bi\n",
       "0  What kind of cat should you take into the  des...   True     True\n",
       "1  Remember when people used to have to be in sha...   True     True\n",
       "2  Pizza is always good. - everyone we'll see abo...   True     True\n",
       "3  What's 6 inches long hard, bent, and in my pan...   True     True\n",
       "4  Black teen's response to violence in his commu...  False    False"
      ]
     },
     "execution_count": 19,
     "metadata": {},
     "output_type": "execute_result"
    }
   ],
   "source": [
    "df_sub['pred_bi'] = (test_preds > 0.5)\n",
    "\n",
    "print_evaluation_metrics(df_sub['humor'], df_sub['pred_bi'], '', False, 'SPLIT on '+str(split))\n",
    "\n",
    "df_sub.to_csv('sub.csv', index=False)\n",
    "df_sub.head()"
   ]
  },
  {
   "cell_type": "code",
   "execution_count": 20,
   "id": "modular-interaction",
   "metadata": {},
   "outputs": [
    {
     "name": "stdout",
     "output_type": "stream",
     "text": [
      "Texts that the model correctly predicts:\n"
     ]
    },
    {
     "data": {
      "text/html": [
       "<div>\n",
       "<style scoped>\n",
       "    .dataframe tbody tr th:only-of-type {\n",
       "        vertical-align: middle;\n",
       "    }\n",
       "\n",
       "    .dataframe tbody tr th {\n",
       "        vertical-align: top;\n",
       "    }\n",
       "\n",
       "    .dataframe thead th {\n",
       "        text-align: right;\n",
       "    }\n",
       "</style>\n",
       "<table border=\"1\" class=\"dataframe\">\n",
       "  <thead>\n",
       "    <tr style=\"text-align: right;\">\n",
       "      <th></th>\n",
       "      <th>text</th>\n",
       "      <th>humor</th>\n",
       "      <th>pred_bi</th>\n",
       "    </tr>\n",
       "  </thead>\n",
       "  <tbody>\n",
       "    <tr>\n",
       "      <th>0</th>\n",
       "      <td>What kind of cat should you take into the  des...</td>\n",
       "      <td>True</td>\n",
       "      <td>True</td>\n",
       "    </tr>\n",
       "    <tr>\n",
       "      <th>1</th>\n",
       "      <td>Remember when people used to have to be in sha...</td>\n",
       "      <td>True</td>\n",
       "      <td>True</td>\n",
       "    </tr>\n",
       "    <tr>\n",
       "      <th>2</th>\n",
       "      <td>Pizza is always good. - everyone we'll see abo...</td>\n",
       "      <td>True</td>\n",
       "      <td>True</td>\n",
       "    </tr>\n",
       "    <tr>\n",
       "      <th>3</th>\n",
       "      <td>What's 6 inches long hard, bent, and in my pan...</td>\n",
       "      <td>True</td>\n",
       "      <td>True</td>\n",
       "    </tr>\n",
       "    <tr>\n",
       "      <th>4</th>\n",
       "      <td>Black teen's response to violence in his commu...</td>\n",
       "      <td>False</td>\n",
       "      <td>False</td>\n",
       "    </tr>\n",
       "    <tr>\n",
       "      <th>...</th>\n",
       "      <td>...</td>\n",
       "      <td>...</td>\n",
       "      <td>...</td>\n",
       "    </tr>\n",
       "    <tr>\n",
       "      <th>995</th>\n",
       "      <td>Watch: dude with rod in his head seems pretty ...</td>\n",
       "      <td>False</td>\n",
       "      <td>False</td>\n",
       "    </tr>\n",
       "    <tr>\n",
       "      <th>996</th>\n",
       "      <td>Why are giraffes slow to apologize? it takes t...</td>\n",
       "      <td>True</td>\n",
       "      <td>True</td>\n",
       "    </tr>\n",
       "    <tr>\n",
       "      <th>997</th>\n",
       "      <td>I think some drugs should be legalized... but ...</td>\n",
       "      <td>True</td>\n",
       "      <td>True</td>\n",
       "    </tr>\n",
       "    <tr>\n",
       "      <th>998</th>\n",
       "      <td>What did miss muffet and saddam hussein have i...</td>\n",
       "      <td>True</td>\n",
       "      <td>True</td>\n",
       "    </tr>\n",
       "    <tr>\n",
       "      <th>999</th>\n",
       "      <td>My 83 year old grandfather is still trying to ...</td>\n",
       "      <td>True</td>\n",
       "      <td>True</td>\n",
       "    </tr>\n",
       "  </tbody>\n",
       "</table>\n",
       "<p>983 rows × 3 columns</p>\n",
       "</div>"
      ],
      "text/plain": [
       "                                                  text  humor  pred_bi\n",
       "0    What kind of cat should you take into the  des...   True     True\n",
       "1    Remember when people used to have to be in sha...   True     True\n",
       "2    Pizza is always good. - everyone we'll see abo...   True     True\n",
       "3    What's 6 inches long hard, bent, and in my pan...   True     True\n",
       "4    Black teen's response to violence in his commu...  False    False\n",
       "..                                                 ...    ...      ...\n",
       "995  Watch: dude with rod in his head seems pretty ...  False    False\n",
       "996  Why are giraffes slow to apologize? it takes t...   True     True\n",
       "997  I think some drugs should be legalized... but ...   True     True\n",
       "998  What did miss muffet and saddam hussein have i...   True     True\n",
       "999  My 83 year old grandfather is still trying to ...   True     True\n",
       "\n",
       "[983 rows x 3 columns]"
      ]
     },
     "execution_count": 20,
     "metadata": {},
     "output_type": "execute_result"
    }
   ],
   "source": [
    "print('Texts that the model correctly predicts:')\n",
    "df_sub[df_sub['pred_bi']==df_sub['humor']]"
   ]
  },
  {
   "cell_type": "code",
   "execution_count": 21,
   "id": "major-brunswick",
   "metadata": {},
   "outputs": [
    {
     "name": "stdout",
     "output_type": "stream",
     "text": [
      "Texts that the model failed to correctly predict:\n"
     ]
    },
    {
     "data": {
      "text/html": [
       "<div>\n",
       "<style scoped>\n",
       "    .dataframe tbody tr th:only-of-type {\n",
       "        vertical-align: middle;\n",
       "    }\n",
       "\n",
       "    .dataframe tbody tr th {\n",
       "        vertical-align: top;\n",
       "    }\n",
       "\n",
       "    .dataframe thead th {\n",
       "        text-align: right;\n",
       "    }\n",
       "</style>\n",
       "<table border=\"1\" class=\"dataframe\">\n",
       "  <thead>\n",
       "    <tr style=\"text-align: right;\">\n",
       "      <th></th>\n",
       "      <th>text</th>\n",
       "      <th>humor</th>\n",
       "      <th>pred_bi</th>\n",
       "    </tr>\n",
       "  </thead>\n",
       "  <tbody>\n",
       "    <tr>\n",
       "      <th>252</th>\n",
       "      <td>Ariana grande looks like she was designed in a...</td>\n",
       "      <td>True</td>\n",
       "      <td>False</td>\n",
       "    </tr>\n",
       "    <tr>\n",
       "      <th>303</th>\n",
       "      <td>If you're happy and you know it, share your meds</td>\n",
       "      <td>True</td>\n",
       "      <td>False</td>\n",
       "    </tr>\n",
       "    <tr>\n",
       "      <th>309</th>\n",
       "      <td>Friends don't let friends make harlem shake' v...</td>\n",
       "      <td>True</td>\n",
       "      <td>False</td>\n",
       "    </tr>\n",
       "    <tr>\n",
       "      <th>310</th>\n",
       "      <td>The whip was especially popular in the 1800's</td>\n",
       "      <td>True</td>\n",
       "      <td>False</td>\n",
       "    </tr>\n",
       "    <tr>\n",
       "      <th>345</th>\n",
       "      <td>One out of five dentists has the courage to sp...</td>\n",
       "      <td>True</td>\n",
       "      <td>False</td>\n",
       "    </tr>\n",
       "    <tr>\n",
       "      <th>361</th>\n",
       "      <td>New subway slogan idea from jared 12 is the ne...</td>\n",
       "      <td>True</td>\n",
       "      <td>False</td>\n",
       "    </tr>\n",
       "    <tr>\n",
       "      <th>372</th>\n",
       "      <td>The easiest way to water plants is...using a t...</td>\n",
       "      <td>False</td>\n",
       "      <td>True</td>\n",
       "    </tr>\n",
       "    <tr>\n",
       "      <th>383</th>\n",
       "      <td>What is this 'wrong hole' you people speak of?</td>\n",
       "      <td>True</td>\n",
       "      <td>False</td>\n",
       "    </tr>\n",
       "    <tr>\n",
       "      <th>525</th>\n",
       "      <td>What happens when you retweet a compliment abo...</td>\n",
       "      <td>True</td>\n",
       "      <td>False</td>\n",
       "    </tr>\n",
       "    <tr>\n",
       "      <th>572</th>\n",
       "      <td>The boomerang is australia's chief export (and...</td>\n",
       "      <td>True</td>\n",
       "      <td>False</td>\n",
       "    </tr>\n",
       "    <tr>\n",
       "      <th>587</th>\n",
       "      <td>Who's in charge? are you a wimpy parent?</td>\n",
       "      <td>False</td>\n",
       "      <td>True</td>\n",
       "    </tr>\n",
       "    <tr>\n",
       "      <th>628</th>\n",
       "      <td>Weed is out of the bag... what's next? how soon?</td>\n",
       "      <td>False</td>\n",
       "      <td>True</td>\n",
       "    </tr>\n",
       "    <tr>\n",
       "      <th>714</th>\n",
       "      <td>Try to keep calm but k-pop band bts is getting...</td>\n",
       "      <td>False</td>\n",
       "      <td>True</td>\n",
       "    </tr>\n",
       "    <tr>\n",
       "      <th>812</th>\n",
       "      <td>Netanyahu is an ass, but he's my ass</td>\n",
       "      <td>False</td>\n",
       "      <td>True</td>\n",
       "    </tr>\n",
       "    <tr>\n",
       "      <th>878</th>\n",
       "      <td>Fighter. liberator. ungovernable woman. mother...</td>\n",
       "      <td>False</td>\n",
       "      <td>True</td>\n",
       "    </tr>\n",
       "    <tr>\n",
       "      <th>883</th>\n",
       "      <td>What if everyone had only one true soul mate, ...</td>\n",
       "      <td>False</td>\n",
       "      <td>True</td>\n",
       "    </tr>\n",
       "    <tr>\n",
       "      <th>987</th>\n",
       "      <td>These are our relationships as depicted by foo...</td>\n",
       "      <td>False</td>\n",
       "      <td>True</td>\n",
       "    </tr>\n",
       "  </tbody>\n",
       "</table>\n",
       "</div>"
      ],
      "text/plain": [
       "                                                  text  humor  pred_bi\n",
       "252  Ariana grande looks like she was designed in a...   True    False\n",
       "303   If you're happy and you know it, share your meds   True    False\n",
       "309  Friends don't let friends make harlem shake' v...   True    False\n",
       "310      The whip was especially popular in the 1800's   True    False\n",
       "345  One out of five dentists has the courage to sp...   True    False\n",
       "361  New subway slogan idea from jared 12 is the ne...   True    False\n",
       "372  The easiest way to water plants is...using a t...  False     True\n",
       "383     What is this 'wrong hole' you people speak of?   True    False\n",
       "525  What happens when you retweet a compliment abo...   True    False\n",
       "572  The boomerang is australia's chief export (and...   True    False\n",
       "587           Who's in charge? are you a wimpy parent?  False     True\n",
       "628   Weed is out of the bag... what's next? how soon?  False     True\n",
       "714  Try to keep calm but k-pop band bts is getting...  False     True\n",
       "812               Netanyahu is an ass, but he's my ass  False     True\n",
       "878  Fighter. liberator. ungovernable woman. mother...  False     True\n",
       "883  What if everyone had only one true soul mate, ...  False     True\n",
       "987  These are our relationships as depicted by foo...  False     True"
      ]
     },
     "execution_count": 21,
     "metadata": {},
     "output_type": "execute_result"
    }
   ],
   "source": [
    "print('Texts that the model failed to correctly predict:')\n",
    "df_sub[df_sub['pred_bi']!=df_sub['humor']]"
   ]
  },
  {
   "cell_type": "markdown",
   "id": "engaging-document",
   "metadata": {},
   "source": [
    "## Process and evaluate SeqGAN jokes"
   ]
  },
  {
   "cell_type": "code",
   "execution_count": 98,
   "id": "athletic-thesaurus",
   "metadata": {},
   "outputs": [],
   "source": [
    "metrics = []"
   ]
  },
  {
   "cell_type": "markdown",
   "id": "combined-newport",
   "metadata": {},
   "source": [
    "### SeqGAN without Rollout"
   ]
  },
  {
   "cell_type": "code",
   "execution_count": 99,
   "id": "individual-median",
   "metadata": {},
   "outputs": [],
   "source": [
    "path = \"../SeqGAN/output/\"\n",
    "filename = \"jokes_10k.txt\"\n",
    "fp1 = open(path+filename,\"r\")\n",
    "sentence = []\n",
    "\n",
    "for l in fp1.readlines():\n",
    "#     print(l.replace(\"<pad> \",\"\"))\n",
    "    sentence.append(l.replace(\"<pad> \",\"\").replace(\"\\n\",\"\"))\n",
    "fp1.close()\n",
    "df = pd.DataFrame(sentence,columns =['text'])"
   ]
  },
  {
   "cell_type": "code",
   "execution_count": 100,
   "id": "vocal-orlando",
   "metadata": {},
   "outputs": [
    {
     "name": "stdout",
     "output_type": "stream",
     "text": [
      "10001\n"
     ]
    },
    {
     "data": {
      "text/html": [
       "<div>\n",
       "<style scoped>\n",
       "    .dataframe tbody tr th:only-of-type {\n",
       "        vertical-align: middle;\n",
       "    }\n",
       "\n",
       "    .dataframe tbody tr th {\n",
       "        vertical-align: top;\n",
       "    }\n",
       "\n",
       "    .dataframe thead th {\n",
       "        text-align: right;\n",
       "    }\n",
       "</style>\n",
       "<table border=\"1\" class=\"dataframe\">\n",
       "  <thead>\n",
       "    <tr style=\"text-align: right;\">\n",
       "      <th></th>\n",
       "      <th>text</th>\n",
       "      <th>humor</th>\n",
       "    </tr>\n",
       "  </thead>\n",
       "  <tbody>\n",
       "    <tr>\n",
       "      <th>0</th>\n",
       "      <td>unbowed unbent unbroken . told his friends wer...</td>\n",
       "      <td>True</td>\n",
       "    </tr>\n",
       "    <tr>\n",
       "      <th>1</th>\n",
       "      <td>i m against ? joe with being sure to bend the ...</td>\n",
       "      <td>True</td>\n",
       "    </tr>\n",
       "    <tr>\n",
       "      <th>2</th>\n",
       "      <td>. what is a blonde out of the government ? for...</td>\n",
       "      <td>True</td>\n",
       "    </tr>\n",
       "    <tr>\n",
       "      <th>3</th>\n",
       "      <td>how long do you tell if you t laugh ? an extro...</td>\n",
       "      <td>True</td>\n",
       "    </tr>\n",
       "    <tr>\n",
       "      <th>4</th>\n",
       "      <td></td>\n",
       "      <td>True</td>\n",
       "    </tr>\n",
       "  </tbody>\n",
       "</table>\n",
       "</div>"
      ],
      "text/plain": [
       "                                                text  humor\n",
       "0  unbowed unbent unbroken . told his friends wer...   True\n",
       "1  i m against ? joe with being sure to bend the ...   True\n",
       "2  . what is a blonde out of the government ? for...   True\n",
       "3  how long do you tell if you t laugh ? an extro...   True\n",
       "4                                                      True"
      ]
     },
     "execution_count": 100,
     "metadata": {},
     "output_type": "execute_result"
    }
   ],
   "source": [
    "print(len(df))\n",
    "df['humor'] = True\n",
    "df_sub = df.copy()\n",
    "df.head()"
   ]
  },
  {
   "cell_type": "code",
   "execution_count": 101,
   "id": "canadian-bathroom",
   "metadata": {},
   "outputs": [
    {
     "data": {
      "application/vnd.jupyter.widget-view+json": {
       "model_id": "8a799c300b4a4aa2b22cbf0b2a0fcbe3",
       "version_major": 2,
       "version_minor": 0
      },
      "text/plain": [
       "0it [00:00, ?it/s]"
      ]
     },
     "metadata": {},
     "output_type": "display_data"
    },
    {
     "name": "stdout",
     "output_type": "stream",
     "text": [
      "(10001, 20)\n"
     ]
    }
   ],
   "source": [
    "output_eval_inputs = compute_input_arrays(df, ['text'], tokenizer)"
   ]
  },
  {
   "cell_type": "code",
   "execution_count": 102,
   "id": "colored-alcohol",
   "metadata": {},
   "outputs": [],
   "source": [
    "output_eval_preds = model.predict(output_eval_inputs)"
   ]
  },
  {
   "cell_type": "code",
   "execution_count": 103,
   "id": "southern-expert",
   "metadata": {},
   "outputs": [
    {
     "name": "stdout",
     "output_type": "stream",
     "text": [
      "================== SPLIT on 0.5\n",
      "f1_score  : 0.9631971801783122\n",
      "[[   0    0]\n",
      " [ 710 9291]]\n",
      "Acc 0.929007099290071 Prec 1.0 Rec 0.929007099290071 F1 0.9631971801783122\n"
     ]
    },
    {
     "data": {
      "text/html": [
       "<div>\n",
       "<style scoped>\n",
       "    .dataframe tbody tr th:only-of-type {\n",
       "        vertical-align: middle;\n",
       "    }\n",
       "\n",
       "    .dataframe tbody tr th {\n",
       "        vertical-align: top;\n",
       "    }\n",
       "\n",
       "    .dataframe thead th {\n",
       "        text-align: right;\n",
       "    }\n",
       "</style>\n",
       "<table border=\"1\" class=\"dataframe\">\n",
       "  <thead>\n",
       "    <tr style=\"text-align: right;\">\n",
       "      <th></th>\n",
       "      <th>text</th>\n",
       "      <th>humor</th>\n",
       "      <th>pred_bi</th>\n",
       "    </tr>\n",
       "  </thead>\n",
       "  <tbody>\n",
       "    <tr>\n",
       "      <th>0</th>\n",
       "      <td>unbowed unbent unbroken . told his friends wer...</td>\n",
       "      <td>True</td>\n",
       "      <td>True</td>\n",
       "    </tr>\n",
       "    <tr>\n",
       "      <th>1</th>\n",
       "      <td>i m against ? joe with being sure to bend the ...</td>\n",
       "      <td>True</td>\n",
       "      <td>True</td>\n",
       "    </tr>\n",
       "    <tr>\n",
       "      <th>2</th>\n",
       "      <td>. what is a blonde out of the government ? for...</td>\n",
       "      <td>True</td>\n",
       "      <td>True</td>\n",
       "    </tr>\n",
       "    <tr>\n",
       "      <th>3</th>\n",
       "      <td>how long do you tell if you t laugh ? an extro...</td>\n",
       "      <td>True</td>\n",
       "      <td>True</td>\n",
       "    </tr>\n",
       "    <tr>\n",
       "      <th>4</th>\n",
       "      <td></td>\n",
       "      <td>True</td>\n",
       "      <td>False</td>\n",
       "    </tr>\n",
       "  </tbody>\n",
       "</table>\n",
       "</div>"
      ],
      "text/plain": [
       "                                                text  humor  pred_bi\n",
       "0  unbowed unbent unbroken . told his friends wer...   True     True\n",
       "1  i m against ? joe with being sure to bend the ...   True     True\n",
       "2  . what is a blonde out of the government ? for...   True     True\n",
       "3  how long do you tell if you t laugh ? an extro...   True     True\n",
       "4                                                      True    False"
      ]
     },
     "execution_count": 103,
     "metadata": {},
     "output_type": "execute_result"
    }
   ],
   "source": [
    "df_sub['pred_bi'] = (output_eval_preds > 0.5)\n",
    "\n",
    "metrics.append(print_evaluation_metrics(df_sub['humor'], df_sub['pred_bi'], '', False, 'SPLIT on '+str(0.5)))\n",
    "\n",
    "# df_sub.to_csv('sub.csv', index=False)\n",
    "df_sub.head()"
   ]
  },
  {
   "cell_type": "code",
   "execution_count": 104,
   "id": "spectacular-drove",
   "metadata": {},
   "outputs": [
    {
     "name": "stdout",
     "output_type": "stream",
     "text": [
      "Texts that the model find not funny:\n"
     ]
    },
    {
     "data": {
      "text/html": [
       "<div>\n",
       "<style scoped>\n",
       "    .dataframe tbody tr th:only-of-type {\n",
       "        vertical-align: middle;\n",
       "    }\n",
       "\n",
       "    .dataframe tbody tr th {\n",
       "        vertical-align: top;\n",
       "    }\n",
       "\n",
       "    .dataframe thead th {\n",
       "        text-align: right;\n",
       "    }\n",
       "</style>\n",
       "<table border=\"1\" class=\"dataframe\">\n",
       "  <thead>\n",
       "    <tr style=\"text-align: right;\">\n",
       "      <th></th>\n",
       "      <th>text</th>\n",
       "      <th>humor</th>\n",
       "      <th>pred_bi</th>\n",
       "    </tr>\n",
       "  </thead>\n",
       "  <tbody>\n",
       "    <tr>\n",
       "      <th>46</th>\n",
       "      <td>knock</td>\n",
       "      <td>True</td>\n",
       "      <td>False</td>\n",
       "    </tr>\n",
       "    <tr>\n",
       "      <th>64</th>\n",
       "      <td>obama didn t don t force .</td>\n",
       "      <td>True</td>\n",
       "      <td>False</td>\n",
       "    </tr>\n",
       "    <tr>\n",
       "      <th>66</th>\n",
       "      <td>like a recent electricity act</td>\n",
       "      <td>True</td>\n",
       "      <td>False</td>\n",
       "    </tr>\n",
       "    <tr>\n",
       "      <th>157</th>\n",
       "      <td>stair</td>\n",
       "      <td>True</td>\n",
       "      <td>False</td>\n",
       "    </tr>\n",
       "    <tr>\n",
       "      <th>196</th>\n",
       "      <td>this dad is too big</td>\n",
       "      <td>True</td>\n",
       "      <td>False</td>\n",
       "    </tr>\n",
       "    <tr>\n",
       "      <th>...</th>\n",
       "      <td>...</td>\n",
       "      <td>...</td>\n",
       "      <td>...</td>\n",
       "    </tr>\n",
       "    <tr>\n",
       "      <th>9908</th>\n",
       "      <td>jkfsh</td>\n",
       "      <td>True</td>\n",
       "      <td>False</td>\n",
       "    </tr>\n",
       "    <tr>\n",
       "      <th>9916</th>\n",
       "      <td>meta c art s family is controversy ? . .</td>\n",
       "      <td>True</td>\n",
       "      <td>False</td>\n",
       "    </tr>\n",
       "    <tr>\n",
       "      <th>9939</th>\n",
       "      <td>knock</td>\n",
       "      <td>True</td>\n",
       "      <td>False</td>\n",
       "    </tr>\n",
       "    <tr>\n",
       "      <th>9952</th>\n",
       "      <td>the quick fit just heard and this tour and not...</td>\n",
       "      <td>True</td>\n",
       "      <td>False</td>\n",
       "    </tr>\n",
       "    <tr>\n",
       "      <th>9963</th>\n",
       "      <td>the dog</td>\n",
       "      <td>True</td>\n",
       "      <td>False</td>\n",
       "    </tr>\n",
       "  </tbody>\n",
       "</table>\n",
       "<p>384 rows × 3 columns</p>\n",
       "</div>"
      ],
      "text/plain": [
       "                                                   text  humor  pred_bi\n",
       "46                                               knock    True    False\n",
       "64                          obama didn t don t force .    True    False\n",
       "66                       like a recent electricity act    True    False\n",
       "157                                              stair    True    False\n",
       "196                                this dad is too big    True    False\n",
       "...                                                 ...    ...      ...\n",
       "9908                                             jkfsh    True    False\n",
       "9916          meta c art s family is controversy ? . .    True    False\n",
       "9939                                             knock    True    False\n",
       "9952  the quick fit just heard and this tour and not...   True    False\n",
       "9963                                           the dog    True    False\n",
       "\n",
       "[384 rows x 3 columns]"
      ]
     },
     "execution_count": 104,
     "metadata": {},
     "output_type": "execute_result"
    }
   ],
   "source": [
    "print('Texts that the model find not funny:')\n",
    "df_sub[(df_sub['pred_bi']!=df_sub['humor'])&(df_sub['text']!='')]"
   ]
  },
  {
   "cell_type": "markdown",
   "id": "animal-outside",
   "metadata": {},
   "source": [
    "### SeqGAN with Rollout"
   ]
  },
  {
   "cell_type": "code",
   "execution_count": 105,
   "id": "supposed-objective",
   "metadata": {},
   "outputs": [],
   "source": [
    "path = \"../SeqGAN-rollout/output/\"\n",
    "filename = \"jokes_rollout.txt\"\n",
    "fp1 = open(path+filename,\"r\")\n",
    "sentence = []\n",
    "\n",
    "for l in fp1.readlines():\n",
    "#     print(l.replace(\"<pad> \",\"\"))\n",
    "    sentence.append(l.replace(\"<pad> \",\"\").replace(\"\\n\",\"\"))\n",
    "fp1.close()\n",
    "df = pd.DataFrame(sentence,columns =['text'])"
   ]
  },
  {
   "cell_type": "code",
   "execution_count": 106,
   "id": "tested-hostel",
   "metadata": {},
   "outputs": [
    {
     "name": "stdout",
     "output_type": "stream",
     "text": [
      "10001\n"
     ]
    },
    {
     "data": {
      "text/html": [
       "<div>\n",
       "<style scoped>\n",
       "    .dataframe tbody tr th:only-of-type {\n",
       "        vertical-align: middle;\n",
       "    }\n",
       "\n",
       "    .dataframe tbody tr th {\n",
       "        vertical-align: top;\n",
       "    }\n",
       "\n",
       "    .dataframe thead th {\n",
       "        text-align: right;\n",
       "    }\n",
       "</style>\n",
       "<table border=\"1\" class=\"dataframe\">\n",
       "  <thead>\n",
       "    <tr style=\"text-align: right;\">\n",
       "      <th></th>\n",
       "      <th>text</th>\n",
       "      <th>humor</th>\n",
       "    </tr>\n",
       "  </thead>\n",
       "  <tbody>\n",
       "    <tr>\n",
       "      <th>0</th>\n",
       "      <td>dylsexic man .</td>\n",
       "      <td>True</td>\n",
       "    </tr>\n",
       "    <tr>\n",
       "      <th>1</th>\n",
       "      <td>kerbal takei</td>\n",
       "      <td>True</td>\n",
       "    </tr>\n",
       "    <tr>\n",
       "      <th>2</th>\n",
       "      <td>luz .</td>\n",
       "      <td>True</td>\n",
       "    </tr>\n",
       "    <tr>\n",
       "      <th>3</th>\n",
       "      <td>submit an old lady</td>\n",
       "      <td>True</td>\n",
       "    </tr>\n",
       "    <tr>\n",
       "      <th>4</th>\n",
       "      <td>rectified .</td>\n",
       "      <td>True</td>\n",
       "    </tr>\n",
       "  </tbody>\n",
       "</table>\n",
       "</div>"
      ],
      "text/plain": [
       "                  text  humor\n",
       "0      dylsexic man .    True\n",
       "1        kerbal takei    True\n",
       "2               luz .    True\n",
       "3  submit an old lady    True\n",
       "4         rectified .    True"
      ]
     },
     "execution_count": 106,
     "metadata": {},
     "output_type": "execute_result"
    }
   ],
   "source": [
    "print(len(df))\n",
    "df['humor'] = True\n",
    "df_sub = df.copy()\n",
    "df.head()"
   ]
  },
  {
   "cell_type": "code",
   "execution_count": 107,
   "id": "pressing-slave",
   "metadata": {},
   "outputs": [
    {
     "data": {
      "application/vnd.jupyter.widget-view+json": {
       "model_id": "0203b8ef12054473bb4bf49a699892a3",
       "version_major": 2,
       "version_minor": 0
      },
      "text/plain": [
       "0it [00:00, ?it/s]"
      ]
     },
     "metadata": {},
     "output_type": "display_data"
    },
    {
     "name": "stdout",
     "output_type": "stream",
     "text": [
      "(10001, 20)\n"
     ]
    }
   ],
   "source": [
    "output_eval_inputs = compute_input_arrays(df, ['text'], tokenizer)\n",
    "output_eval_preds = model.predict(output_eval_inputs)"
   ]
  },
  {
   "cell_type": "code",
   "execution_count": 108,
   "id": "photographic-christmas",
   "metadata": {},
   "outputs": [
    {
     "name": "stdout",
     "output_type": "stream",
     "text": [
      "================== SPLIT on 0.5\n",
      "f1_score  : 0.8183375672003308\n",
      "[[   0    0]\n",
      " [3075 6926]]\n",
      "Acc 0.6925307469253075 Prec 1.0 Rec 0.6925307469253075 F1 0.8183375672003308\n"
     ]
    },
    {
     "data": {
      "text/html": [
       "<div>\n",
       "<style scoped>\n",
       "    .dataframe tbody tr th:only-of-type {\n",
       "        vertical-align: middle;\n",
       "    }\n",
       "\n",
       "    .dataframe tbody tr th {\n",
       "        vertical-align: top;\n",
       "    }\n",
       "\n",
       "    .dataframe thead th {\n",
       "        text-align: right;\n",
       "    }\n",
       "</style>\n",
       "<table border=\"1\" class=\"dataframe\">\n",
       "  <thead>\n",
       "    <tr style=\"text-align: right;\">\n",
       "      <th></th>\n",
       "      <th>text</th>\n",
       "      <th>humor</th>\n",
       "      <th>pred_bi</th>\n",
       "    </tr>\n",
       "  </thead>\n",
       "  <tbody>\n",
       "    <tr>\n",
       "      <th>0</th>\n",
       "      <td>dylsexic man .</td>\n",
       "      <td>True</td>\n",
       "      <td>True</td>\n",
       "    </tr>\n",
       "    <tr>\n",
       "      <th>1</th>\n",
       "      <td>kerbal takei</td>\n",
       "      <td>True</td>\n",
       "      <td>False</td>\n",
       "    </tr>\n",
       "    <tr>\n",
       "      <th>2</th>\n",
       "      <td>luz .</td>\n",
       "      <td>True</td>\n",
       "      <td>True</td>\n",
       "    </tr>\n",
       "    <tr>\n",
       "      <th>3</th>\n",
       "      <td>submit an old lady</td>\n",
       "      <td>True</td>\n",
       "      <td>False</td>\n",
       "    </tr>\n",
       "    <tr>\n",
       "      <th>4</th>\n",
       "      <td>rectified .</td>\n",
       "      <td>True</td>\n",
       "      <td>True</td>\n",
       "    </tr>\n",
       "  </tbody>\n",
       "</table>\n",
       "</div>"
      ],
      "text/plain": [
       "                  text  humor  pred_bi\n",
       "0      dylsexic man .    True     True\n",
       "1        kerbal takei    True    False\n",
       "2               luz .    True     True\n",
       "3  submit an old lady    True    False\n",
       "4         rectified .    True     True"
      ]
     },
     "execution_count": 108,
     "metadata": {},
     "output_type": "execute_result"
    }
   ],
   "source": [
    "df_sub['pred_bi'] = (output_eval_preds > 0.5)\n",
    "\n",
    "metrics.append(print_evaluation_metrics(df_sub['humor'], df_sub['pred_bi'], '', False, 'SPLIT on '+str(0.5)))\n",
    "\n",
    "# df_sub.to_csv('sub.csv', index=False)\n",
    "df_sub.head()"
   ]
  },
  {
   "cell_type": "code",
   "execution_count": 109,
   "id": "attractive-transcription",
   "metadata": {},
   "outputs": [
    {
     "name": "stdout",
     "output_type": "stream",
     "text": [
      "Texts that the model find not funny:\n"
     ]
    },
    {
     "data": {
      "text/html": [
       "<div>\n",
       "<style scoped>\n",
       "    .dataframe tbody tr th:only-of-type {\n",
       "        vertical-align: middle;\n",
       "    }\n",
       "\n",
       "    .dataframe tbody tr th {\n",
       "        vertical-align: top;\n",
       "    }\n",
       "\n",
       "    .dataframe thead th {\n",
       "        text-align: right;\n",
       "    }\n",
       "</style>\n",
       "<table border=\"1\" class=\"dataframe\">\n",
       "  <thead>\n",
       "    <tr style=\"text-align: right;\">\n",
       "      <th></th>\n",
       "      <th>text</th>\n",
       "      <th>humor</th>\n",
       "      <th>pred_bi</th>\n",
       "    </tr>\n",
       "  </thead>\n",
       "  <tbody>\n",
       "    <tr>\n",
       "      <th>1</th>\n",
       "      <td>kerbal takei</td>\n",
       "      <td>True</td>\n",
       "      <td>False</td>\n",
       "    </tr>\n",
       "    <tr>\n",
       "      <th>3</th>\n",
       "      <td>submit an old lady</td>\n",
       "      <td>True</td>\n",
       "      <td>False</td>\n",
       "    </tr>\n",
       "    <tr>\n",
       "      <th>5</th>\n",
       "      <td>criticise a school .</td>\n",
       "      <td>True</td>\n",
       "      <td>False</td>\n",
       "    </tr>\n",
       "    <tr>\n",
       "      <th>10</th>\n",
       "      <td>kerbal mart</td>\n",
       "      <td>True</td>\n",
       "      <td>False</td>\n",
       "    </tr>\n",
       "    <tr>\n",
       "      <th>15</th>\n",
       "      <td>visiting a roof</td>\n",
       "      <td>True</td>\n",
       "      <td>False</td>\n",
       "    </tr>\n",
       "    <tr>\n",
       "      <th>...</th>\n",
       "      <td>...</td>\n",
       "      <td>...</td>\n",
       "      <td>...</td>\n",
       "    </tr>\n",
       "    <tr>\n",
       "      <th>9990</th>\n",
       "      <td>okcupid himself</td>\n",
       "      <td>True</td>\n",
       "      <td>False</td>\n",
       "    </tr>\n",
       "    <tr>\n",
       "      <th>9991</th>\n",
       "      <td>kerbal mourinho</td>\n",
       "      <td>True</td>\n",
       "      <td>False</td>\n",
       "    </tr>\n",
       "    <tr>\n",
       "      <th>9992</th>\n",
       "      <td>i met a cuban</td>\n",
       "      <td>True</td>\n",
       "      <td>False</td>\n",
       "    </tr>\n",
       "    <tr>\n",
       "      <th>9995</th>\n",
       "      <td>kerbal nominee burger king</td>\n",
       "      <td>True</td>\n",
       "      <td>False</td>\n",
       "    </tr>\n",
       "    <tr>\n",
       "      <th>9998</th>\n",
       "      <td>embaress over a bra</td>\n",
       "      <td>True</td>\n",
       "      <td>False</td>\n",
       "    </tr>\n",
       "  </tbody>\n",
       "</table>\n",
       "<p>3040 rows × 3 columns</p>\n",
       "</div>"
      ],
      "text/plain": [
       "                             text  humor  pred_bi\n",
       "1                   kerbal takei    True    False\n",
       "3             submit an old lady    True    False\n",
       "5           criticise a school .    True    False\n",
       "10                   kerbal mart    True    False\n",
       "15               visiting a roof    True    False\n",
       "...                           ...    ...      ...\n",
       "9990             okcupid himself    True    False\n",
       "9991             kerbal mourinho    True    False\n",
       "9992               i met a cuban    True    False\n",
       "9995  kerbal nominee burger king    True    False\n",
       "9998         embaress over a bra    True    False\n",
       "\n",
       "[3040 rows x 3 columns]"
      ]
     },
     "execution_count": 109,
     "metadata": {},
     "output_type": "execute_result"
    }
   ],
   "source": [
    "print('Texts that the model find not funny:')\n",
    "df_sub[(df_sub['pred_bi']!=df_sub['humor'])&(df_sub['text']!='')]"
   ]
  },
  {
   "cell_type": "markdown",
   "id": "generous-bridge",
   "metadata": {},
   "source": [
    "## SeqGAN with different training steps (g steps, d steps, k)"
   ]
  },
  {
   "cell_type": "markdown",
   "id": "polish-watch",
   "metadata": {},
   "source": [
    "### SeqGAN G1D1K10"
   ]
  },
  {
   "cell_type": "code",
   "execution_count": 110,
   "id": "sorted-clear",
   "metadata": {},
   "outputs": [],
   "source": [
    "path = \"../SeqGAN/d1k10/\"\n",
    "filename = \"sentences_d1_k10.txt\"\n",
    "fp1 = open(path+filename,\"r\")\n",
    "sentence = []\n",
    "\n",
    "for l in fp1.readlines():\n",
    "#     print(l.replace(\"<pad> \",\"\"))\n",
    "    sentence.append(l.replace(\"<pad> \",\"\").replace(\"\\n\",\"\"))\n",
    "fp1.close()\n",
    "df = pd.DataFrame(sentence,columns =['text'])"
   ]
  },
  {
   "cell_type": "code",
   "execution_count": 111,
   "id": "first-bones",
   "metadata": {},
   "outputs": [
    {
     "name": "stdout",
     "output_type": "stream",
     "text": [
      "10001\n"
     ]
    },
    {
     "data": {
      "text/html": [
       "<div>\n",
       "<style scoped>\n",
       "    .dataframe tbody tr th:only-of-type {\n",
       "        vertical-align: middle;\n",
       "    }\n",
       "\n",
       "    .dataframe tbody tr th {\n",
       "        vertical-align: top;\n",
       "    }\n",
       "\n",
       "    .dataframe thead th {\n",
       "        text-align: right;\n",
       "    }\n",
       "</style>\n",
       "<table border=\"1\" class=\"dataframe\">\n",
       "  <thead>\n",
       "    <tr style=\"text-align: right;\">\n",
       "      <th></th>\n",
       "      <th>text</th>\n",
       "      <th>humor</th>\n",
       "    </tr>\n",
       "  </thead>\n",
       "  <tbody>\n",
       "    <tr>\n",
       "      <th>0</th>\n",
       "      <td>why are the black man was never helps ? and th...</td>\n",
       "      <td>True</td>\n",
       "    </tr>\n",
       "    <tr>\n",
       "      <th>1</th>\n",
       "      <td>why do librarian the little people go in his w...</td>\n",
       "      <td>True</td>\n",
       "    </tr>\n",
       "    <tr>\n",
       "      <th>2</th>\n",
       "      <td>3 . have trump follow of mars away . content i...</td>\n",
       "      <td>True</td>\n",
       "    </tr>\n",
       "    <tr>\n",
       "      <th>3</th>\n",
       "      <td>mental illness everyone mean you re used to see</td>\n",
       "      <td>True</td>\n",
       "    </tr>\n",
       "    <tr>\n",
       "      <th>4</th>\n",
       "      <td>why do turkey give a point stickers it like a ...</td>\n",
       "      <td>True</td>\n",
       "    </tr>\n",
       "  </tbody>\n",
       "</table>\n",
       "</div>"
      ],
      "text/plain": [
       "                                                text  humor\n",
       "0  why are the black man was never helps ? and th...   True\n",
       "1  why do librarian the little people go in his w...   True\n",
       "2  3 . have trump follow of mars away . content i...   True\n",
       "3   mental illness everyone mean you re used to see    True\n",
       "4  why do turkey give a point stickers it like a ...   True"
      ]
     },
     "execution_count": 111,
     "metadata": {},
     "output_type": "execute_result"
    }
   ],
   "source": [
    "print(len(df))\n",
    "df['humor'] = True\n",
    "df_sub = df.copy()\n",
    "df.head()"
   ]
  },
  {
   "cell_type": "code",
   "execution_count": 112,
   "id": "heavy-craft",
   "metadata": {},
   "outputs": [
    {
     "data": {
      "application/vnd.jupyter.widget-view+json": {
       "model_id": "c5409d65a6834aa4a90eab7a344a92e0",
       "version_major": 2,
       "version_minor": 0
      },
      "text/plain": [
       "0it [00:00, ?it/s]"
      ]
     },
     "metadata": {},
     "output_type": "display_data"
    },
    {
     "name": "stdout",
     "output_type": "stream",
     "text": [
      "(10001, 20)\n"
     ]
    }
   ],
   "source": [
    "output_eval_inputs = compute_input_arrays(df, ['text'], tokenizer)\n",
    "output_eval_preds = model.predict(output_eval_inputs)"
   ]
  },
  {
   "cell_type": "code",
   "execution_count": 113,
   "id": "meaningful-design",
   "metadata": {},
   "outputs": [
    {
     "name": "stdout",
     "output_type": "stream",
     "text": [
      "================== SPLIT on 0.5\n",
      "f1_score  : 0.9823454591706945\n",
      "[[   0    0]\n",
      " [ 347 9654]]\n",
      "Acc 0.9653034696530347 Prec 1.0 Rec 0.9653034696530347 F1 0.9823454591706945\n"
     ]
    },
    {
     "data": {
      "text/html": [
       "<div>\n",
       "<style scoped>\n",
       "    .dataframe tbody tr th:only-of-type {\n",
       "        vertical-align: middle;\n",
       "    }\n",
       "\n",
       "    .dataframe tbody tr th {\n",
       "        vertical-align: top;\n",
       "    }\n",
       "\n",
       "    .dataframe thead th {\n",
       "        text-align: right;\n",
       "    }\n",
       "</style>\n",
       "<table border=\"1\" class=\"dataframe\">\n",
       "  <thead>\n",
       "    <tr style=\"text-align: right;\">\n",
       "      <th></th>\n",
       "      <th>text</th>\n",
       "      <th>humor</th>\n",
       "      <th>pred_bi</th>\n",
       "    </tr>\n",
       "  </thead>\n",
       "  <tbody>\n",
       "    <tr>\n",
       "      <th>0</th>\n",
       "      <td>why are the black man was never helps ? and th...</td>\n",
       "      <td>True</td>\n",
       "      <td>True</td>\n",
       "    </tr>\n",
       "    <tr>\n",
       "      <th>1</th>\n",
       "      <td>why do librarian the little people go in his w...</td>\n",
       "      <td>True</td>\n",
       "      <td>True</td>\n",
       "    </tr>\n",
       "    <tr>\n",
       "      <th>2</th>\n",
       "      <td>3 . have trump follow of mars away . content i...</td>\n",
       "      <td>True</td>\n",
       "      <td>True</td>\n",
       "    </tr>\n",
       "    <tr>\n",
       "      <th>3</th>\n",
       "      <td>mental illness everyone mean you re used to see</td>\n",
       "      <td>True</td>\n",
       "      <td>True</td>\n",
       "    </tr>\n",
       "    <tr>\n",
       "      <th>4</th>\n",
       "      <td>why do turkey give a point stickers it like a ...</td>\n",
       "      <td>True</td>\n",
       "      <td>True</td>\n",
       "    </tr>\n",
       "  </tbody>\n",
       "</table>\n",
       "</div>"
      ],
      "text/plain": [
       "                                                text  humor  pred_bi\n",
       "0  why are the black man was never helps ? and th...   True     True\n",
       "1  why do librarian the little people go in his w...   True     True\n",
       "2  3 . have trump follow of mars away . content i...   True     True\n",
       "3   mental illness everyone mean you re used to see    True     True\n",
       "4  why do turkey give a point stickers it like a ...   True     True"
      ]
     },
     "execution_count": 113,
     "metadata": {},
     "output_type": "execute_result"
    }
   ],
   "source": [
    "df_sub['pred_bi'] = (output_eval_preds > 0.5)\n",
    "\n",
    "metrics.append(print_evaluation_metrics(df_sub['humor'], df_sub['pred_bi'], '', False, 'SPLIT on '+str(0.5)))\n",
    "\n",
    "# df_sub.to_csv('sub.csv', index=False)\n",
    "df_sub.head()"
   ]
  },
  {
   "cell_type": "code",
   "execution_count": 114,
   "id": "hungry-custody",
   "metadata": {},
   "outputs": [
    {
     "name": "stdout",
     "output_type": "stream",
     "text": [
      "Texts that the model find not funny:\n"
     ]
    },
    {
     "data": {
      "text/html": [
       "<div>\n",
       "<style scoped>\n",
       "    .dataframe tbody tr th:only-of-type {\n",
       "        vertical-align: middle;\n",
       "    }\n",
       "\n",
       "    .dataframe tbody tr th {\n",
       "        vertical-align: top;\n",
       "    }\n",
       "\n",
       "    .dataframe thead th {\n",
       "        text-align: right;\n",
       "    }\n",
       "</style>\n",
       "<table border=\"1\" class=\"dataframe\">\n",
       "  <thead>\n",
       "    <tr style=\"text-align: right;\">\n",
       "      <th></th>\n",
       "      <th>text</th>\n",
       "      <th>humor</th>\n",
       "      <th>pred_bi</th>\n",
       "    </tr>\n",
       "  </thead>\n",
       "  <tbody>\n",
       "    <tr>\n",
       "      <th>34</th>\n",
       "      <td>what country long</td>\n",
       "      <td>True</td>\n",
       "      <td>False</td>\n",
       "    </tr>\n",
       "    <tr>\n",
       "      <th>94</th>\n",
       "      <td>nietzsche</td>\n",
       "      <td>True</td>\n",
       "      <td>False</td>\n",
       "    </tr>\n",
       "    <tr>\n",
       "      <th>103</th>\n",
       "      <td>deaf</td>\n",
       "      <td>True</td>\n",
       "      <td>False</td>\n",
       "    </tr>\n",
       "    <tr>\n",
       "      <th>127</th>\n",
       "      <td>if you bolt . and won</td>\n",
       "      <td>True</td>\n",
       "      <td>False</td>\n",
       "    </tr>\n",
       "    <tr>\n",
       "      <th>149</th>\n",
       "      <td>and someone jones</td>\n",
       "      <td>True</td>\n",
       "      <td>False</td>\n",
       "    </tr>\n",
       "    <tr>\n",
       "      <th>...</th>\n",
       "      <td>...</td>\n",
       "      <td>...</td>\n",
       "      <td>...</td>\n",
       "    </tr>\n",
       "    <tr>\n",
       "      <th>9893</th>\n",
       "      <td>new divorced 1945</td>\n",
       "      <td>True</td>\n",
       "      <td>False</td>\n",
       "    </tr>\n",
       "    <tr>\n",
       "      <th>9903</th>\n",
       "      <td>did these people get the math office</td>\n",
       "      <td>True</td>\n",
       "      <td>False</td>\n",
       "    </tr>\n",
       "    <tr>\n",
       "      <th>9952</th>\n",
       "      <td>working a bit has kim removed</td>\n",
       "      <td>True</td>\n",
       "      <td>False</td>\n",
       "    </tr>\n",
       "    <tr>\n",
       "      <th>9963</th>\n",
       "      <td>stop all the frog live for spinach</td>\n",
       "      <td>True</td>\n",
       "      <td>False</td>\n",
       "    </tr>\n",
       "    <tr>\n",
       "      <th>9986</th>\n",
       "      <td>when boston guy lord free</td>\n",
       "      <td>True</td>\n",
       "      <td>False</td>\n",
       "    </tr>\n",
       "  </tbody>\n",
       "</table>\n",
       "<p>339 rows × 3 columns</p>\n",
       "</div>"
      ],
      "text/plain": [
       "                                       text  humor  pred_bi\n",
       "34                       what country long    True    False\n",
       "94                               nietzsche    True    False\n",
       "103                                   deaf    True    False\n",
       "127                  if you bolt . and won    True    False\n",
       "149                      and someone jones    True    False\n",
       "...                                     ...    ...      ...\n",
       "9893                     new divorced 1945    True    False\n",
       "9903  did these people get the math office    True    False\n",
       "9952         working a bit has kim removed    True    False\n",
       "9963    stop all the frog live for spinach    True    False\n",
       "9986             when boston guy lord free    True    False\n",
       "\n",
       "[339 rows x 3 columns]"
      ]
     },
     "execution_count": 114,
     "metadata": {},
     "output_type": "execute_result"
    }
   ],
   "source": [
    "print('Texts that the model find not funny:')\n",
    "df_sub[(df_sub['pred_bi']!=df_sub['humor'])&(df_sub['text']!='')]"
   ]
  },
  {
   "cell_type": "markdown",
   "id": "partial-feelings",
   "metadata": {},
   "source": [
    "### SeqGAN with G1D5K3"
   ]
  },
  {
   "cell_type": "code",
   "execution_count": 115,
   "id": "personalized-grass",
   "metadata": {},
   "outputs": [],
   "source": [
    "path = \"../SeqGAN/d5k3/\"\n",
    "filename = \"sentences_d5_k3.txt\"\n",
    "fp1 = open(path+filename,\"r\")\n",
    "sentence = []\n",
    "\n",
    "for l in fp1.readlines():\n",
    "#     print(l.replace(\"<pad> \",\"\"))\n",
    "    sentence.append(l.replace(\"<pad> \",\"\").replace(\"\\n\",\"\"))\n",
    "fp1.close()\n",
    "df = pd.DataFrame(sentence,columns =['text'])"
   ]
  },
  {
   "cell_type": "code",
   "execution_count": 116,
   "id": "pleased-string",
   "metadata": {},
   "outputs": [
    {
     "name": "stdout",
     "output_type": "stream",
     "text": [
      "10001\n"
     ]
    },
    {
     "data": {
      "text/html": [
       "<div>\n",
       "<style scoped>\n",
       "    .dataframe tbody tr th:only-of-type {\n",
       "        vertical-align: middle;\n",
       "    }\n",
       "\n",
       "    .dataframe tbody tr th {\n",
       "        vertical-align: top;\n",
       "    }\n",
       "\n",
       "    .dataframe thead th {\n",
       "        text-align: right;\n",
       "    }\n",
       "</style>\n",
       "<table border=\"1\" class=\"dataframe\">\n",
       "  <thead>\n",
       "    <tr style=\"text-align: right;\">\n",
       "      <th></th>\n",
       "      <th>text</th>\n",
       "      <th>humor</th>\n",
       "    </tr>\n",
       "  </thead>\n",
       "  <tbody>\n",
       "    <tr>\n",
       "      <th>0</th>\n",
       "      <td>there just it is so got a queen . . in my year...</td>\n",
       "      <td>True</td>\n",
       "    </tr>\n",
       "    <tr>\n",
       "      <th>1</th>\n",
       "      <td>the life was acquitted of a pizza . . . . it d...</td>\n",
       "      <td>True</td>\n",
       "    </tr>\n",
       "    <tr>\n",
       "      <th>2</th>\n",
       "      <td>what do ego who do lying ? . balls in a tight</td>\n",
       "      <td>True</td>\n",
       "    </tr>\n",
       "    <tr>\n",
       "      <th>3</th>\n",
       "      <td>what kind of pants repair joe pussies ? . the ...</td>\n",
       "      <td>True</td>\n",
       "    </tr>\n",
       "    <tr>\n",
       "      <th>4</th>\n",
       "      <td>underwear are my best terrible face with a rab...</td>\n",
       "      <td>True</td>\n",
       "    </tr>\n",
       "  </tbody>\n",
       "</table>\n",
       "</div>"
      ],
      "text/plain": [
       "                                                text  humor\n",
       "0  there just it is so got a queen . . in my year...   True\n",
       "1  the life was acquitted of a pizza . . . . it d...   True\n",
       "2     what do ego who do lying ? . balls in a tight    True\n",
       "3  what kind of pants repair joe pussies ? . the ...   True\n",
       "4  underwear are my best terrible face with a rab...   True"
      ]
     },
     "execution_count": 116,
     "metadata": {},
     "output_type": "execute_result"
    }
   ],
   "source": [
    "print(len(df))\n",
    "df['humor'] = True\n",
    "df_sub = df.copy()\n",
    "df.head()"
   ]
  },
  {
   "cell_type": "code",
   "execution_count": 117,
   "id": "serial-source",
   "metadata": {},
   "outputs": [
    {
     "data": {
      "application/vnd.jupyter.widget-view+json": {
       "model_id": "9f625708379f40279bb44f3f19384718",
       "version_major": 2,
       "version_minor": 0
      },
      "text/plain": [
       "0it [00:00, ?it/s]"
      ]
     },
     "metadata": {},
     "output_type": "display_data"
    },
    {
     "name": "stdout",
     "output_type": "stream",
     "text": [
      "(10001, 20)\n"
     ]
    }
   ],
   "source": [
    "output_eval_inputs = compute_input_arrays(df, ['text'], tokenizer)\n",
    "output_eval_preds = model.predict(output_eval_inputs)"
   ]
  },
  {
   "cell_type": "code",
   "execution_count": 118,
   "id": "rocky-namibia",
   "metadata": {},
   "outputs": [
    {
     "name": "stdout",
     "output_type": "stream",
     "text": [
      "================== SPLIT on 0.5\n",
      "f1_score  : 0.9840511986997155\n",
      "[[   0    0]\n",
      " [ 314 9687]]\n",
      "Acc 0.9686031396860314 Prec 1.0 Rec 0.9686031396860314 F1 0.9840511986997155\n"
     ]
    },
    {
     "data": {
      "text/html": [
       "<div>\n",
       "<style scoped>\n",
       "    .dataframe tbody tr th:only-of-type {\n",
       "        vertical-align: middle;\n",
       "    }\n",
       "\n",
       "    .dataframe tbody tr th {\n",
       "        vertical-align: top;\n",
       "    }\n",
       "\n",
       "    .dataframe thead th {\n",
       "        text-align: right;\n",
       "    }\n",
       "</style>\n",
       "<table border=\"1\" class=\"dataframe\">\n",
       "  <thead>\n",
       "    <tr style=\"text-align: right;\">\n",
       "      <th></th>\n",
       "      <th>text</th>\n",
       "      <th>humor</th>\n",
       "      <th>pred_bi</th>\n",
       "    </tr>\n",
       "  </thead>\n",
       "  <tbody>\n",
       "    <tr>\n",
       "      <th>0</th>\n",
       "      <td>there just it is so got a queen . . in my year...</td>\n",
       "      <td>True</td>\n",
       "      <td>True</td>\n",
       "    </tr>\n",
       "    <tr>\n",
       "      <th>1</th>\n",
       "      <td>the life was acquitted of a pizza . . . . it d...</td>\n",
       "      <td>True</td>\n",
       "      <td>True</td>\n",
       "    </tr>\n",
       "    <tr>\n",
       "      <th>2</th>\n",
       "      <td>what do ego who do lying ? . balls in a tight</td>\n",
       "      <td>True</td>\n",
       "      <td>True</td>\n",
       "    </tr>\n",
       "    <tr>\n",
       "      <th>3</th>\n",
       "      <td>what kind of pants repair joe pussies ? . the ...</td>\n",
       "      <td>True</td>\n",
       "      <td>True</td>\n",
       "    </tr>\n",
       "    <tr>\n",
       "      <th>4</th>\n",
       "      <td>underwear are my best terrible face with a rab...</td>\n",
       "      <td>True</td>\n",
       "      <td>True</td>\n",
       "    </tr>\n",
       "  </tbody>\n",
       "</table>\n",
       "</div>"
      ],
      "text/plain": [
       "                                                text  humor  pred_bi\n",
       "0  there just it is so got a queen . . in my year...   True     True\n",
       "1  the life was acquitted of a pizza . . . . it d...   True     True\n",
       "2     what do ego who do lying ? . balls in a tight    True     True\n",
       "3  what kind of pants repair joe pussies ? . the ...   True     True\n",
       "4  underwear are my best terrible face with a rab...   True     True"
      ]
     },
     "execution_count": 118,
     "metadata": {},
     "output_type": "execute_result"
    }
   ],
   "source": [
    "df_sub['pred_bi'] = (output_eval_preds > 0.5)\n",
    "\n",
    "metrics.append(print_evaluation_metrics(df_sub['humor'], df_sub['pred_bi'], '', False, 'SPLIT on '+str(0.5)))\n",
    "\n",
    "# df_sub.to_csv('sub.csv', index=False)\n",
    "df_sub.head()"
   ]
  },
  {
   "cell_type": "code",
   "execution_count": 119,
   "id": "developing-producer",
   "metadata": {},
   "outputs": [
    {
     "name": "stdout",
     "output_type": "stream",
     "text": [
      "Texts that the model find not funny:\n"
     ]
    },
    {
     "data": {
      "text/html": [
       "<div>\n",
       "<style scoped>\n",
       "    .dataframe tbody tr th:only-of-type {\n",
       "        vertical-align: middle;\n",
       "    }\n",
       "\n",
       "    .dataframe tbody tr th {\n",
       "        vertical-align: top;\n",
       "    }\n",
       "\n",
       "    .dataframe thead th {\n",
       "        text-align: right;\n",
       "    }\n",
       "</style>\n",
       "<table border=\"1\" class=\"dataframe\">\n",
       "  <thead>\n",
       "    <tr style=\"text-align: right;\">\n",
       "      <th></th>\n",
       "      <th>text</th>\n",
       "      <th>humor</th>\n",
       "      <th>pred_bi</th>\n",
       "    </tr>\n",
       "  </thead>\n",
       "  <tbody>\n",
       "    <tr>\n",
       "      <th>76</th>\n",
       "      <td>paul walker link the u . . . . the</td>\n",
       "      <td>True</td>\n",
       "      <td>False</td>\n",
       "    </tr>\n",
       "    <tr>\n",
       "      <th>77</th>\n",
       "      <td>jihadists to meowth</td>\n",
       "      <td>True</td>\n",
       "      <td>False</td>\n",
       "    </tr>\n",
       "    <tr>\n",
       "      <th>87</th>\n",
       "      <td>why the investment burger exceptions</td>\n",
       "      <td>True</td>\n",
       "      <td>False</td>\n",
       "    </tr>\n",
       "    <tr>\n",
       "      <th>122</th>\n",
       "      <td>irish based knock</td>\n",
       "      <td>True</td>\n",
       "      <td>False</td>\n",
       "    </tr>\n",
       "    <tr>\n",
       "      <th>130</th>\n",
       "      <td>conversation</td>\n",
       "      <td>True</td>\n",
       "      <td>False</td>\n",
       "    </tr>\n",
       "    <tr>\n",
       "      <th>...</th>\n",
       "      <td>...</td>\n",
       "      <td>...</td>\n",
       "      <td>...</td>\n",
       "    </tr>\n",
       "    <tr>\n",
       "      <th>9901</th>\n",
       "      <td>bernie masonry</td>\n",
       "      <td>True</td>\n",
       "      <td>False</td>\n",
       "    </tr>\n",
       "    <tr>\n",
       "      <th>9924</th>\n",
       "      <td>how the man does a wiener dumpling</td>\n",
       "      <td>True</td>\n",
       "      <td>False</td>\n",
       "    </tr>\n",
       "    <tr>\n",
       "      <th>9926</th>\n",
       "      <td>about</td>\n",
       "      <td>True</td>\n",
       "      <td>False</td>\n",
       "    </tr>\n",
       "    <tr>\n",
       "      <th>9949</th>\n",
       "      <td>chinese girl bae for new best lego planets meter</td>\n",
       "      <td>True</td>\n",
       "      <td>False</td>\n",
       "    </tr>\n",
       "    <tr>\n",
       "      <th>9992</th>\n",
       "      <td>best ol electron</td>\n",
       "      <td>True</td>\n",
       "      <td>False</td>\n",
       "    </tr>\n",
       "  </tbody>\n",
       "</table>\n",
       "<p>307 rows × 3 columns</p>\n",
       "</div>"
      ],
      "text/plain": [
       "                                                   text  humor  pred_bi\n",
       "76                  paul walker link the u . . . . the    True    False\n",
       "77                                 jihadists to meowth    True    False\n",
       "87                why the investment burger exceptions    True    False\n",
       "122                                  irish based knock    True    False\n",
       "130                                       conversation    True    False\n",
       "...                                                 ...    ...      ...\n",
       "9901                                    bernie masonry    True    False\n",
       "9924                how the man does a wiener dumpling    True    False\n",
       "9926                                             about    True    False\n",
       "9949  chinese girl bae for new best lego planets meter    True    False\n",
       "9992                                  best ol electron    True    False\n",
       "\n",
       "[307 rows x 3 columns]"
      ]
     },
     "execution_count": 119,
     "metadata": {},
     "output_type": "execute_result"
    }
   ],
   "source": [
    "print('Texts that the model find not funny:')\n",
    "df_sub[(df_sub['pred_bi']!=df_sub['humor'])&(df_sub['text']!='')]"
   ]
  },
  {
   "cell_type": "markdown",
   "id": "separated-pitch",
   "metadata": {},
   "source": [
    "### SeqGAN G100D3K450 [mode collapse]"
   ]
  },
  {
   "cell_type": "code",
   "execution_count": 120,
   "id": "shaped-pasta",
   "metadata": {},
   "outputs": [],
   "source": [
    "path = \"../SeqGAN/g100d1k10/\"\n",
    "filename = \"sentences_d3_k4.txt\"\n",
    "fp1 = open(path+filename,\"r\")\n",
    "sentence = []\n",
    "\n",
    "for l in fp1.readlines():\n",
    "#     print(l.replace(\"<pad> \",\"\"))\n",
    "    sentence.append(l.replace(\"<pad> \",\"\").replace(\"\\n\",\"\"))\n",
    "fp1.close()\n",
    "df = pd.DataFrame(sentence,columns =['text'])"
   ]
  },
  {
   "cell_type": "code",
   "execution_count": 121,
   "id": "regular-clarity",
   "metadata": {},
   "outputs": [
    {
     "name": "stdout",
     "output_type": "stream",
     "text": [
      "10001\n"
     ]
    },
    {
     "data": {
      "text/html": [
       "<div>\n",
       "<style scoped>\n",
       "    .dataframe tbody tr th:only-of-type {\n",
       "        vertical-align: middle;\n",
       "    }\n",
       "\n",
       "    .dataframe tbody tr th {\n",
       "        vertical-align: top;\n",
       "    }\n",
       "\n",
       "    .dataframe thead th {\n",
       "        text-align: right;\n",
       "    }\n",
       "</style>\n",
       "<table border=\"1\" class=\"dataframe\">\n",
       "  <thead>\n",
       "    <tr style=\"text-align: right;\">\n",
       "      <th></th>\n",
       "      <th>text</th>\n",
       "      <th>humor</th>\n",
       "    </tr>\n",
       "  </thead>\n",
       "  <tbody>\n",
       "    <tr>\n",
       "      <th>0</th>\n",
       "      <td>request god spic spirits me . liabilitirary sp...</td>\n",
       "      <td>True</td>\n",
       "    </tr>\n",
       "    <tr>\n",
       "      <th>1</th>\n",
       "      <td>request god spic spirits me . liabilitirary sp...</td>\n",
       "      <td>True</td>\n",
       "    </tr>\n",
       "    <tr>\n",
       "      <th>2</th>\n",
       "      <td>request god spic spirits me me . liabilitirary...</td>\n",
       "      <td>True</td>\n",
       "    </tr>\n",
       "    <tr>\n",
       "      <th>3</th>\n",
       "      <td>request god spic spirits me . liabilitirary sp...</td>\n",
       "      <td>True</td>\n",
       "    </tr>\n",
       "    <tr>\n",
       "      <th>4</th>\n",
       "      <td>request god spic spirits me . liabilitirary sp...</td>\n",
       "      <td>True</td>\n",
       "    </tr>\n",
       "  </tbody>\n",
       "</table>\n",
       "</div>"
      ],
      "text/plain": [
       "                                                text  humor\n",
       "0  request god spic spirits me . liabilitirary sp...   True\n",
       "1  request god spic spirits me . liabilitirary sp...   True\n",
       "2  request god spic spirits me me . liabilitirary...   True\n",
       "3  request god spic spirits me . liabilitirary sp...   True\n",
       "4  request god spic spirits me . liabilitirary sp...   True"
      ]
     },
     "execution_count": 121,
     "metadata": {},
     "output_type": "execute_result"
    }
   ],
   "source": [
    "# Generated the same sentence due to mode collapse\n",
    "print(len(df))\n",
    "df['humor'] = True\n",
    "df_sub = df.copy()\n",
    "df.head()"
   ]
  },
  {
   "cell_type": "code",
   "execution_count": 122,
   "id": "binding-insert",
   "metadata": {},
   "outputs": [
    {
     "data": {
      "application/vnd.jupyter.widget-view+json": {
       "model_id": "28e8ae24b7e0407b9292a3d45822d000",
       "version_major": 2,
       "version_minor": 0
      },
      "text/plain": [
       "0it [00:00, ?it/s]"
      ]
     },
     "metadata": {},
     "output_type": "display_data"
    },
    {
     "name": "stdout",
     "output_type": "stream",
     "text": [
      "(10001, 20)\n"
     ]
    }
   ],
   "source": [
    "output_eval_inputs = compute_input_arrays(df, ['text'], tokenizer)\n",
    "output_eval_preds = model.predict(output_eval_inputs)"
   ]
  },
  {
   "cell_type": "code",
   "execution_count": 123,
   "id": "discrete-attempt",
   "metadata": {},
   "outputs": [
    {
     "name": "stdout",
     "output_type": "stream",
     "text": [
      "================== SPLIT on 0.5\n",
      "f1_score  : 0.999950002499875\n",
      "[[    0     0]\n",
      " [    1 10000]]\n",
      "Acc 0.9999000099990001 Prec 1.0 Rec 0.9999000099990001 F1 0.999950002499875\n"
     ]
    },
    {
     "data": {
      "text/html": [
       "<div>\n",
       "<style scoped>\n",
       "    .dataframe tbody tr th:only-of-type {\n",
       "        vertical-align: middle;\n",
       "    }\n",
       "\n",
       "    .dataframe tbody tr th {\n",
       "        vertical-align: top;\n",
       "    }\n",
       "\n",
       "    .dataframe thead th {\n",
       "        text-align: right;\n",
       "    }\n",
       "</style>\n",
       "<table border=\"1\" class=\"dataframe\">\n",
       "  <thead>\n",
       "    <tr style=\"text-align: right;\">\n",
       "      <th></th>\n",
       "      <th>text</th>\n",
       "      <th>humor</th>\n",
       "      <th>pred_bi</th>\n",
       "    </tr>\n",
       "  </thead>\n",
       "  <tbody>\n",
       "    <tr>\n",
       "      <th>0</th>\n",
       "      <td>request god spic spirits me . liabilitirary sp...</td>\n",
       "      <td>True</td>\n",
       "      <td>True</td>\n",
       "    </tr>\n",
       "    <tr>\n",
       "      <th>1</th>\n",
       "      <td>request god spic spirits me . liabilitirary sp...</td>\n",
       "      <td>True</td>\n",
       "      <td>True</td>\n",
       "    </tr>\n",
       "    <tr>\n",
       "      <th>2</th>\n",
       "      <td>request god spic spirits me me . liabilitirary...</td>\n",
       "      <td>True</td>\n",
       "      <td>True</td>\n",
       "    </tr>\n",
       "    <tr>\n",
       "      <th>3</th>\n",
       "      <td>request god spic spirits me . liabilitirary sp...</td>\n",
       "      <td>True</td>\n",
       "      <td>True</td>\n",
       "    </tr>\n",
       "    <tr>\n",
       "      <th>4</th>\n",
       "      <td>request god spic spirits me . liabilitirary sp...</td>\n",
       "      <td>True</td>\n",
       "      <td>True</td>\n",
       "    </tr>\n",
       "  </tbody>\n",
       "</table>\n",
       "</div>"
      ],
      "text/plain": [
       "                                                text  humor  pred_bi\n",
       "0  request god spic spirits me . liabilitirary sp...   True     True\n",
       "1  request god spic spirits me . liabilitirary sp...   True     True\n",
       "2  request god spic spirits me me . liabilitirary...   True     True\n",
       "3  request god spic spirits me . liabilitirary sp...   True     True\n",
       "4  request god spic spirits me . liabilitirary sp...   True     True"
      ]
     },
     "execution_count": 123,
     "metadata": {},
     "output_type": "execute_result"
    }
   ],
   "source": [
    "df_sub['pred_bi'] = (output_eval_preds > 0.5)\n",
    "\n",
    "metrics.append(print_evaluation_metrics(df_sub['humor'], df_sub['pred_bi'], '', False, 'SPLIT on '+str(0.5)))\n",
    "\n",
    "# df_sub.to_csv('sub.csv', index=False)\n",
    "df_sub.head()"
   ]
  },
  {
   "cell_type": "code",
   "execution_count": 124,
   "id": "mysterious-dallas",
   "metadata": {},
   "outputs": [
    {
     "name": "stdout",
     "output_type": "stream",
     "text": [
      "All texts:\n"
     ]
    },
    {
     "data": {
      "text/plain": [
       "{'',\n",
       " 'request . liabilitirary spit swap flying flying flying flying flying flying flying flying flying flying flying flying flying flying flying ',\n",
       " 'request and has flying flying bar pear against flying flying flying flying flying flying flying flying flying flying flying flying ',\n",
       " 'request and spic spirits me advertising . liabilitirary spit swap flying flying flying flying flying flying flying flying flying flying ',\n",
       " 'request because archeologists and bar tired bern on mexican mexican archeologists bar . mexican archeologists bar . archeologists bar . ',\n",
       " 'request because archeologists bar because archeologists bar because bar tired bar bar bar tired mexican archeologists bar . archeologists bar ',\n",
       " 'request can archeologists . flying flying flying flying flying flying flying flying flying flying flying flying flying flying flying flying ',\n",
       " 'request can harmless spray can . liabilitirary spit swap flying flying flying flying flying flying flying flying flying flying flying ',\n",
       " 'request can narcissist on mexican living has bar bar bar bar bar bar bar bar bar bar bar bar bar ',\n",
       " 'request god spic spirits . liabilitirary spit swap flying flying flying flying flying flying flying flying flying flying flying flying ',\n",
       " 'request god spic spirits me . liabilitirary spit swap flying flying flying flying flying flying flying flying flying flying flying ',\n",
       " 'request god spic spirits me ? . liabilitirary spit swap flying flying flying flying flying flying flying flying flying flying ',\n",
       " 'request god spic spirits me a flying flying flying flying flying flying flying flying flying flying flying flying flying flying ',\n",
       " 'request god spic spirits me me . liabilitirary spit swap flying flying flying flying flying flying flying flying flying flying ',\n",
       " 'request god spic spirits me me me . liabilitirary spit swap flying flying flying flying flying flying flying flying flying ',\n",
       " 'request god spic spirits me me me ? . liabilitirary spit swap flying flying flying flying flying flying flying flying ',\n",
       " 'request god spic spirits me me me me . liabilitirary spit swap flying flying flying flying flying flying flying flying ',\n",
       " 'request god spic spirits me me me me me . liabilitirary spit swap flying flying flying flying flying flying flying ',\n",
       " 'request god spic spirits me me me me me me . liabilitirary spit swap flying flying flying flying flying flying ',\n",
       " 'request god spic spirits me me me me me me me . liabilitirary spit swap flying flying flying flying flying ',\n",
       " 'request god spic spirits me under me me me me me me me me me me me me me me ',\n",
       " 'request she liabilitirary spit swap flying flying flying flying flying flying flying flying flying flying flying flying flying flying flying '}"
      ]
     },
     "execution_count": 124,
     "metadata": {},
     "output_type": "execute_result"
    }
   ],
   "source": [
    "print(\"All texts:\")\n",
    "set(df_sub['text'])"
   ]
  },
  {
   "cell_type": "markdown",
   "id": "sporting-daisy",
   "metadata": {},
   "source": [
    "### A quick recap of results"
   ]
  },
  {
   "cell_type": "code",
   "execution_count": 128,
   "id": "available-strength",
   "metadata": {},
   "outputs": [
    {
     "name": "stdout",
     "output_type": "stream",
     "text": [
      "SeqGAN w/o Rollout {'Acc': 0.929007099290071, 'Prec': 1.0, 'Rec': 0.929007099290071, 'F1': 0.9631971801783122}\n",
      "SeqGAN w/ Rollout {'Acc': 0.6925307469253075, 'Prec': 1.0, 'Rec': 0.6925307469253075, 'F1': 0.8183375672003308}\n",
      "SeqGAN D1K10 {'Acc': 0.9653034696530347, 'Prec': 1.0, 'Rec': 0.9653034696530347, 'F1': 0.9823454591706945}\n",
      "SeqGAN D5K3 {'Acc': 0.9686031396860314, 'Prec': 1.0, 'Rec': 0.9686031396860314, 'F1': 0.9840511986997155}\n",
      "SeqGAN G100D3K450 {'Acc': 0.9999000099990001, 'Prec': 1.0, 'Rec': 0.9999000099990001, 'F1': 0.999950002499875}\n"
     ]
    }
   ],
   "source": [
    "print(\"SeqGAN w/o Rollout\", metrics[0])\n",
    "print(\"SeqGAN w/ Rollout\", metrics[1])\n",
    "print(\"SeqGAN D1K10\", metrics[2])\n",
    "print(\"SeqGAN D5K3\", metrics[3])\n",
    "print(\"SeqGAN G100D3K450\", metrics[4])"
   ]
  },
  {
   "cell_type": "markdown",
   "id": "sized-latex",
   "metadata": {},
   "source": [
    "## BLEU score"
   ]
  },
  {
   "cell_type": "code",
   "execution_count": 1,
   "id": "intended-germany",
   "metadata": {},
   "outputs": [],
   "source": [
    "from fast_bleu import BLEU, SelfBLEU\n",
    "import pandas as pd\n",
    "bleu_scores = []"
   ]
  },
  {
   "cell_type": "markdown",
   "id": "sharp-psychology",
   "metadata": {},
   "source": [
    "#### BLEU score for SeqGAN w/o Rollout"
   ]
  },
  {
   "cell_type": "code",
   "execution_count": 2,
   "id": "gross-colony",
   "metadata": {},
   "outputs": [],
   "source": [
    "fp1 = open(\"../SeqGAN/jokes.csv\",\"r\")\n",
    "ref = []\n",
    "for l in fp1.readlines():\n",
    "    i = l.index(\",\")\n",
    "#     print(l[i+1:])\n",
    "    ref.append(l[i+1:-1].split())\n",
    "fp1.close()\n",
    "ref = ref[1:]"
   ]
  },
  {
   "cell_type": "code",
   "execution_count": 3,
   "id": "private-mathematics",
   "metadata": {},
   "outputs": [],
   "source": [
    "path = \"../SeqGAN/output/\"\n",
    "filename = \"jokes_10k.txt\"\n",
    "fp1 = open(path+filename,\"r\")\n",
    "sentence = []\n",
    "\n",
    "for l in fp1.readlines():\n",
    "#     print(l.replace(\"<pad> \",\"\"))\n",
    "    sentence.append([l.replace(\"<pad> \",\"\").replace(\"\\n\",\"\").split()])\n",
    "fp1.close()\n",
    "df = pd.DataFrame(sentence,columns =['text'])\n",
    "hypotheses = df['text'].tolist()\n",
    "# hypotheses = [hyp1]"
   ]
  },
  {
   "cell_type": "code",
   "execution_count": 4,
   "id": "historic-gazette",
   "metadata": {},
   "outputs": [
    {
     "name": "stdout",
     "output_type": "stream",
     "text": [
      "The trigram BLEU score average is:  0.48825516778786526\n",
      "Its SelfBLEU score average is:  0.49914322678525486\n"
     ]
    }
   ],
   "source": [
    "weights = {'trigram': (1/3., 1/3., 1/3.)}\n",
    "bleu = BLEU(ref, weights)\n",
    "self_bleu = SelfBLEU(hypotheses, weights)\n",
    "trigram = bleu.get_score(hypotheses)['trigram']\n",
    "self_trigram = self_bleu.get_score()['trigram']\n",
    "bleu_avg = sum(trigram)/len(trigram)\n",
    "self_avg = sum(self_trigram)/len(self_trigram)\n",
    "print(\"The trigram BLEU score average is: \", bleu_avg)\n",
    "print(\"Its SelfBLEU score average is: \", self_avg)"
   ]
  },
  {
   "cell_type": "code",
   "execution_count": 5,
   "id": "excellent-matthew",
   "metadata": {},
   "outputs": [],
   "source": [
    "bleu_scores.append((bleu_avg, self_avg))"
   ]
  },
  {
   "cell_type": "code",
   "execution_count": 6,
   "id": "functional-greenhouse",
   "metadata": {},
   "outputs": [],
   "source": [
    "del bleu, self_bleu"
   ]
  },
  {
   "cell_type": "markdown",
   "id": "usual-microphone",
   "metadata": {},
   "source": [
    "#### BLEU score for SeqGAN w/ Rollout"
   ]
  },
  {
   "cell_type": "code",
   "execution_count": 7,
   "id": "binary-pitch",
   "metadata": {},
   "outputs": [],
   "source": [
    "fp1 = open(\"../SeqGAN/jokes.csv\",\"r\")\n",
    "ref = []\n",
    "for l in fp1.readlines():\n",
    "    i = l.index(\",\")\n",
    "#     print(l[i+1:])\n",
    "    ref.append(l[i+1:-1].split())\n",
    "fp1.close()\n",
    "ref = ref[1:]"
   ]
  },
  {
   "cell_type": "code",
   "execution_count": 8,
   "id": "spiritual-stability",
   "metadata": {},
   "outputs": [],
   "source": [
    "path = \"../SeqGAN-rollout/output/\"\n",
    "filename = \"jokes_rollout.txt\"\n",
    "fp1 = open(path+filename,\"r\")\n",
    "sentence = []\n",
    "\n",
    "for l in fp1.readlines():\n",
    "#     print(l.replace(\"<pad> \",\"\"))\n",
    "    sentence.append([l.replace(\"<pad> \",\"\").replace(\"\\n\",\"\").split()])\n",
    "fp1.close()\n",
    "df = pd.DataFrame(sentence,columns =['text'])\n",
    "hypotheses = df['text'].tolist()"
   ]
  },
  {
   "cell_type": "code",
   "execution_count": 9,
   "id": "sitting-simple",
   "metadata": {},
   "outputs": [
    {
     "name": "stdout",
     "output_type": "stream",
     "text": [
      "The trigram BLEU score average is:  0.33816560359254516\n",
      "Its SelfBLEU score average is:  0.413591621531638\n"
     ]
    }
   ],
   "source": [
    "weights = {'trigram': (1/3., 1/3., 1/3.)}\n",
    "bleu = BLEU(ref, weights)\n",
    "self_bleu = SelfBLEU(hypotheses, weights)\n",
    "trigram = bleu.get_score(hypotheses)['trigram']\n",
    "self_trigram = self_bleu.get_score()['trigram']\n",
    "bleu_avg = sum(trigram)/len(trigram)\n",
    "self_avg = sum(self_trigram)/len(self_trigram)\n",
    "print(\"The trigram BLEU score average is: \", bleu_avg)\n",
    "print(\"Its SelfBLEU score average is: \", self_avg)"
   ]
  },
  {
   "cell_type": "code",
   "execution_count": 10,
   "id": "appropriate-noise",
   "metadata": {},
   "outputs": [],
   "source": [
    "bleu_scores.append((bleu_avg, self_avg))"
   ]
  },
  {
   "cell_type": "code",
   "execution_count": 11,
   "id": "drawn-water",
   "metadata": {},
   "outputs": [],
   "source": [
    "del bleu, self_bleu"
   ]
  },
  {
   "cell_type": "markdown",
   "id": "normal-coffee",
   "metadata": {},
   "source": [
    "#### BLEU score for SeqGAN G1D1K10"
   ]
  },
  {
   "cell_type": "code",
   "execution_count": 12,
   "id": "understanding-restaurant",
   "metadata": {},
   "outputs": [],
   "source": [
    "path = \"../SeqGAN/g1d1k10/\"\n",
    "filename = \"sentences_g1d1k10.txt\"\n",
    "fp1 = open(path+filename,\"r\")\n",
    "sentence = []\n",
    "\n",
    "for l in fp1.readlines():\n",
    "#     print(l.replace(\"<pad> \",\"\"))\n",
    "    sentence.append([l.replace(\"<pad> \",\"\").replace(\"\\n\",\"\").split()])\n",
    "fp1.close()\n",
    "df = pd.DataFrame(sentence,columns =['text'])\n",
    "hypotheses = df['text'].tolist()"
   ]
  },
  {
   "cell_type": "code",
   "execution_count": 13,
   "id": "diagnostic-refund",
   "metadata": {},
   "outputs": [
    {
     "name": "stdout",
     "output_type": "stream",
     "text": [
      "The trigram BLEU score average is:  0.41091817656462315\n",
      "Its SelfBLEU score average is:  0.5468079787442801\n"
     ]
    }
   ],
   "source": [
    "weights = {'trigram': (1/3., 1/3., 1/3.)}\n",
    "bleu = BLEU(ref, weights)\n",
    "self_bleu = SelfBLEU(hypotheses, weights)\n",
    "trigram = bleu.get_score(hypotheses)['trigram']\n",
    "self_trigram = self_bleu.get_score()['trigram']\n",
    "bleu_avg = sum(trigram)/len(trigram)\n",
    "self_avg = sum(self_trigram)/len(self_trigram)\n",
    "print(\"The trigram BLEU score average is: \", bleu_avg)\n",
    "print(\"Its SelfBLEU score average is: \", self_avg)"
   ]
  },
  {
   "cell_type": "code",
   "execution_count": 14,
   "id": "competent-reggae",
   "metadata": {},
   "outputs": [],
   "source": [
    "bleu_scores.append((bleu_avg, self_avg))"
   ]
  },
  {
   "cell_type": "code",
   "execution_count": 15,
   "id": "abstract-shakespeare",
   "metadata": {},
   "outputs": [],
   "source": [
    "del bleu, self_bleu"
   ]
  },
  {
   "cell_type": "markdown",
   "id": "choice-cologne",
   "metadata": {},
   "source": [
    "#### BLEU score for SeqGAN with G1D5K3"
   ]
  },
  {
   "cell_type": "code",
   "execution_count": 16,
   "id": "innocent-pepper",
   "metadata": {},
   "outputs": [],
   "source": [
    "path = \"../SeqGAN/g1d5k3/\"\n",
    "filename = \"sentences_g1d5k3.txt\"\n",
    "fp1 = open(path+filename,\"r\")\n",
    "sentence = []\n",
    "\n",
    "for l in fp1.readlines():\n",
    "#     print(l.replace(\"<pad> \",\"\"))\n",
    "    sentence.append([l.replace(\"<pad> \",\"\").replace(\"\\n\",\"\").split()])\n",
    "fp1.close()\n",
    "df = pd.DataFrame(sentence,columns =['text'])\n",
    "hypotheses = df['text'].tolist()"
   ]
  },
  {
   "cell_type": "code",
   "execution_count": 17,
   "id": "fitting-development",
   "metadata": {},
   "outputs": [
    {
     "name": "stdout",
     "output_type": "stream",
     "text": [
      "The trigram BLEU score average is:  0.47081801837779585\n",
      "Its SelfBLEU score average is:  0.6069941148920345\n"
     ]
    }
   ],
   "source": [
    "weights = {'trigram': (1/3., 1/3., 1/3.)}\n",
    "bleu = BLEU(ref, weights)\n",
    "self_bleu = SelfBLEU(hypotheses, weights)\n",
    "trigram = bleu.get_score(hypotheses)['trigram']\n",
    "self_trigram = self_bleu.get_score()['trigram']\n",
    "bleu_avg = sum(trigram)/len(trigram)\n",
    "self_avg = sum(self_trigram)/len(self_trigram)\n",
    "print(\"The trigram BLEU score average is: \", bleu_avg)\n",
    "print(\"Its SelfBLEU score average is: \", self_avg)"
   ]
  },
  {
   "cell_type": "code",
   "execution_count": 18,
   "id": "industrial-jewel",
   "metadata": {},
   "outputs": [],
   "source": [
    "bleu_scores.append((bleu_avg, self_avg))"
   ]
  },
  {
   "cell_type": "code",
   "execution_count": 19,
   "id": "western-fundamental",
   "metadata": {},
   "outputs": [],
   "source": [
    "del bleu, self_bleu"
   ]
  },
  {
   "cell_type": "markdown",
   "id": "gross-newark",
   "metadata": {},
   "source": [
    "#### BLEU score for SeqGAN G100D3K450 [mode collapse]"
   ]
  },
  {
   "cell_type": "code",
   "execution_count": 20,
   "id": "colored-tuesday",
   "metadata": {},
   "outputs": [],
   "source": [
    "path = \"../SeqGAN/g100d1k10/\"\n",
    "filename = \"sentences_g100d1k10.txt\"\n",
    "fp1 = open(path+filename,\"r\")\n",
    "sentence = []\n",
    "\n",
    "for l in fp1.readlines():\n",
    "#     print(l.replace(\"<pad> \",\"\"))\n",
    "    sentence.append([l.replace(\"<pad> \",\"\").replace(\"\\n\",\"\").split()])\n",
    "fp1.close()\n",
    "df = pd.DataFrame(sentence,columns =['text'])\n",
    "hypotheses = df['text'].tolist()"
   ]
  },
  {
   "cell_type": "code",
   "execution_count": 21,
   "id": "historical-greene",
   "metadata": {},
   "outputs": [
    {
     "name": "stdout",
     "output_type": "stream",
     "text": [
      "The trigram BLEU score average is:  0.060136454414944134\n",
      "Its SelfBLEU score average is:  0.9995533276011634\n"
     ]
    }
   ],
   "source": [
    "weights = {'trigram': (1/3., 1/3., 1/3.)}\n",
    "bleu = BLEU(ref, weights)\n",
    "self_bleu = SelfBLEU(hypotheses, weights)\n",
    "trigram = bleu.get_score(hypotheses)['trigram']\n",
    "self_trigram = self_bleu.get_score()['trigram']\n",
    "bleu_avg = sum(trigram)/len(trigram)\n",
    "self_avg = sum(self_trigram)/len(self_trigram)\n",
    "print(\"The trigram BLEU score average is: \", bleu_avg)\n",
    "print(\"Its SelfBLEU score average is: \", self_avg)"
   ]
  },
  {
   "cell_type": "code",
   "execution_count": 22,
   "id": "acquired-collar",
   "metadata": {},
   "outputs": [],
   "source": [
    "bleu_scores.append((bleu_avg, self_avg))"
   ]
  },
  {
   "cell_type": "code",
   "execution_count": 23,
   "id": "obvious-switch",
   "metadata": {},
   "outputs": [],
   "source": [
    "del bleu, self_bleu"
   ]
  },
  {
   "cell_type": "markdown",
   "id": "auburn-driving",
   "metadata": {},
   "source": [
    "### Bleu and SelfBleu scores:"
   ]
  },
  {
   "cell_type": "code",
   "execution_count": 24,
   "id": "understanding-firewall",
   "metadata": {},
   "outputs": [
    {
     "data": {
      "text/plain": [
       "[(0.48825516778786526, 0.49914322678525486),\n",
       " (0.33816560359254516, 0.413591621531638),\n",
       " (0.41091817656462315, 0.5468079787442801),\n",
       " (0.47081801837779585, 0.6069941148920345),\n",
       " (0.060136454414944134, 0.9995533276011634)]"
      ]
     },
     "execution_count": 24,
     "metadata": {},
     "output_type": "execute_result"
    }
   ],
   "source": [
    "bleu_scores"
   ]
  },
  {
   "cell_type": "code",
   "execution_count": null,
   "id": "premium-tunisia",
   "metadata": {},
   "outputs": [],
   "source": []
  }
 ],
 "metadata": {
  "environment": {
   "name": "tf2-gpu.2-4.m65",
   "type": "gcloud",
   "uri": "gcr.io/deeplearning-platform-release/tf2-gpu.2-4:m65"
  },
  "kernelspec": {
   "display_name": "Python 3",
   "language": "python",
   "name": "python3"
  },
  "language_info": {
   "codemirror_mode": {
    "name": "ipython",
    "version": 3
   },
   "file_extension": ".py",
   "mimetype": "text/x-python",
   "name": "python",
   "nbconvert_exporter": "python",
   "pygments_lexer": "ipython3",
   "version": "3.7.10"
  }
 },
 "nbformat": 4,
 "nbformat_minor": 5
}
